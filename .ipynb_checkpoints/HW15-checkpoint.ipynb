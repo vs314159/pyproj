{
 "cells": [
  {
   "cell_type": "markdown",
   "id": "601fa556",
   "metadata": {},
   "source": [
    "## Practice\n",
    "\n",
    "1. Write a Python class named Circle constructed by a radius and two methods which will compute the area and the perimeter of a circle."
   ]
  },
  {
   "cell_type": "code",
   "execution_count": 1,
   "id": "8fe05a47",
   "metadata": {},
   "outputs": [],
   "source": [
    "from math import pi"
   ]
  },
  {
   "cell_type": "code",
   "execution_count": 2,
   "id": "9c76a5b4",
   "metadata": {},
   "outputs": [],
   "source": [
    "class Circle:\n",
    "    def __init__(self, radius):\n",
    "        if isinstance(radius, complex):\n",
    "            print(f'Радіус не може бути комплексним числом, змінено з \"{radius}\" на \"{radius.real}\"')\n",
    "            self.radius = radius.real\n",
    "        if radius < 0:\n",
    "            print(f'Радіус не може бути менше нуля, змінено з \"{radius}\" на \"{-radius}\"')\n",
    "        self.radius = abs(radius)\n",
    "\n",
    "    def perimeter(self):\n",
    "        return 2 * pi * self.radius\n",
    "\n",
    "    def area(self):\n",
    "        return pi * self.radius ** 2"
   ]
  },
  {
   "cell_type": "markdown",
   "id": "e894f360",
   "metadata": {},
   "source": [
    "2. Write a Python program to create two empty classes, Student and Marks. Now create some instances and check whether they are instances of the said classes or not. Also, check whether the said classes are subclasses of the built-in object class or not."
   ]
  },
  {
   "cell_type": "code",
   "execution_count": 3,
   "id": "2c63c030",
   "metadata": {},
   "outputs": [
    {
     "name": "stdout",
     "output_type": "stream",
     "text": [
      "Створений об`єкт має тип <class '__main__.Student'>? - True\n",
      "Створений об`єкт має тип <class '__main__.Marks'>? - False\n",
      "Створений об`єкт має тип <class 'str'>? - False\n",
      "Створений об`єкт має тип <class 'int'>? - False\n",
      "Створений об`єкт має тип <class 'object'>? - True\n"
     ]
    }
   ],
   "source": [
    "class Student:\n",
    "    pass\n",
    "\n",
    "\n",
    "class Marks:\n",
    "    pass\n",
    "\n",
    "\n",
    "obj = Student()\n",
    "types = (Student, Marks, str, int, object)\n",
    "for type_ in types:\n",
    "    print(f'Створений об`єкт має тип {type_}? - {isinstance(obj, type_)}')"
   ]
  },
  {
   "cell_type": "markdown",
   "id": "b5659e7d",
   "metadata": {},
   "source": [
    "3. A Bank\n",
    "    1. Using the Account class as a base class, write two derived classes called SavingsAccount and CurrentAccount. A SavingsAccount object, in addition to the attributes of an Account object, should have an interest attribute and a method which adds interest to the account. A CurrentAccount object, in addition to the attributes of an Account object, should have an overdraft limit attribute.\n",
    "\n",
    "    2. Now create a Bank class, an object of which contains an array of Account objects. Accounts in the array could be instances of the Account class, the SavingsAccount class, or the CurrentAccount class. Create some test accounts (some of each type).\n",
    "\n",
    "    3. Write an update method in the Bank class. It iterates through each account, updating it in the following ways: Savings accounts get interest added (via the method you already wrote); CurrentAccounts get a letter sent if they are in overdraft. (use print to 'send' the letter).\n",
    "\n",
    "    4. The Bank class requires methods for opening and closing accounts, and for paying a dividend into each account."
   ]
  },
  {
   "cell_type": "code",
   "execution_count": 4,
   "id": "d78590a4",
   "metadata": {},
   "outputs": [],
   "source": [
    "class Account:\n",
    "    def __init__(self, balance, account_number):\n",
    "        self._balance = balance\n",
    "        self._account_number = account_number\n",
    "\n",
    "    @classmethod\n",
    "    def create_account(cls, account_number):\n",
    "        return cls(0.0, account_number)\n",
    "\n",
    "    def deposit(self, amount):\n",
    "        if amount > 0:\n",
    "            self._balance += amount\n",
    "        else:\n",
    "            raise ValueError('Amount must be positive')\n",
    "\n",
    "    def withdraw(self, amount):\n",
    "        if amount > 0:\n",
    "            self._balance -= amount\n",
    "        else:\n",
    "            raise ValueError('Amount must be positive')\n",
    "\n",
    "    def get_balance(self):\n",
    "        return self._balance\n",
    "\n",
    "    def get_account_number(self):\n",
    "        return self._account_number\n",
    "\n",
    "    def __str__(self):\n",
    "        return f'Account number: {self._account_number}, balance: {self._balance}'\n"
   ]
  },
  {
   "cell_type": "code",
   "execution_count": 5,
   "id": "32ce8d5f",
   "metadata": {},
   "outputs": [],
   "source": [
    "class SavingsAccount(Account):\n",
    "    def __init__(self, balance, account_number):\n",
    "        super().__init__(balance, account_number)\n",
    "        self.interest = None\n",
    "\n",
    "    def add_interest(self, interest):\n",
    "        self.interest = interest\n",
    "\n",
    "\n",
    "class CurrentAccount(Account):\n",
    "    def __init__(self, balance, account_number, overdraft_limit):\n",
    "        super().__init__(balance, account_number)\n",
    "        self.overdraft_limit = overdraft_limit"
   ]
  },
  {
   "cell_type": "code",
   "execution_count": 6,
   "id": "3ce1b6d0",
   "metadata": {},
   "outputs": [],
   "source": [
    "class Bank(Account):\n",
    "    def __init__(self, accounts: list[Account]):\n",
    "        self.accounts = list(set(accounts))\n",
    "\n",
    "    def update(self, interest):\n",
    "        for ind, acc in enumerate(self.accounts):\n",
    "            if isinstance(acc, SavingsAccount):\n",
    "                self.accounts[ind].add_interest(interest)\n",
    "                print(f'{acc.get_account_number()}: Updating interest to value {interest}')\n",
    "            elif isinstance(acc, CurrentAccount):\n",
    "                if acc.get_balance() < acc.overdraft_limit:\n",
    "                    text = ''.join(f'\\u0336{c}' for c in 'Lebowski')\n",
    "                    print(f'Where`s the money, {text} {acc.get_account_number()}?')\n",
    "\n",
    "    def get_all_account_numbers(self):\n",
    "        return list(map(lambda x: x.get_account_number(), self.accounts))\n",
    "\n",
    "    def open_account(self, acc_type, account_number):\n",
    "        # isinstance не працює, бо acc_type назва типу,\n",
    "        # а не об'єкт одного з типів Account, SavingsAccount, CurrentAccount\n",
    "        # іншими словами, type(acc_type) = type\n",
    "        if acc_type in (Account, SavingsAccount, CurrentAccount):\n",
    "            # ідентифікатори акаунтів мають бути унікальними\n",
    "            acc_numbers = self.get_all_account_numbers()\n",
    "            if account_number not in acc_numbers:\n",
    "                self.accounts += [acc_type.create_account(account_number)]\n",
    "            else:\n",
    "                print('The account number is already exists')\n",
    "        else:\n",
    "            print('Wrong type of account, try \"Account\"', \n",
    "                  '\"SavingsAccount\" or \"CurrentAccount\" (unquoted)')\n",
    "\n",
    "    def close_account(self, account_number):\n",
    "        # потрібно лише номер аккаунту, оскільки ці значення унікальні\n",
    "        if isinstance(account_number, str):\n",
    "            acc_numbers = self.get_all_account_numbers()\n",
    "            if account_number in acc_numbers:\n",
    "                ind = acc_numbers.index(account_number)\n",
    "                del self.accounts[ind]\n",
    "        else:\n",
    "            print('Invalid type of account number')\n",
    "\n",
    "    def divident(self, amount):\n",
    "        for ind, acc in enumerate(self.accounts):\n",
    "            self.accounts[ind].deposit(amount)\n"
   ]
  },
  {
   "cell_type": "code",
   "execution_count": 7,
   "id": "4f7e8d84",
   "metadata": {},
   "outputs": [],
   "source": [
    "bank = Bank([Account(130, '123123'), SavingsAccount(22, '312313'), CurrentAccount(1231, '1231231233', 2000)])"
   ]
  },
  {
   "cell_type": "code",
   "execution_count": 8,
   "id": "5f1de642",
   "metadata": {},
   "outputs": [
    {
     "name": "stdout",
     "output_type": "stream",
     "text": [
      "List of all accounts in the bank\n",
      "Account number: 1231231233, balance: 1231\n",
      "Account number: 312313, balance: 22\n",
      "Account number: 123123, balance: 130\n",
      "\n",
      "Method update:\n",
      "Where`s the money, ̶L̶e̶b̶o̶w̶s̶k̶i 1231231233?\n",
      "312313: Updating interest to value 0.2\n",
      "\n",
      "Opening new account, new list af all accounts\n",
      "Account number: 1231231233, balance: 1231\n",
      "Account number: 312313, balance: 22\n",
      "Account number: 123123, balance: 130\n",
      "Account number: 312312332343, balance: 0.0\n",
      "\n",
      "Trying to open the same account\n",
      "The account number is already exists\n",
      "\n",
      "Closing account\n",
      "Account number: 1231231233, balance: 1231\n",
      "Account number: 312313, balance: 22\n",
      "Account number: 123123, balance: 130\n",
      "\n",
      "Dividents\n",
      "Account number: 1231231233, balance: 1241\n",
      "Account number: 312313, balance: 32\n",
      "Account number: 123123, balance: 140\n"
     ]
    }
   ],
   "source": [
    "print('List of all accounts in the bank')\n",
    "for b in bank.accounts:\n",
    "    print(b)\n",
    "\n",
    "print('\\nMethod update:')\n",
    "bank.update(0.2)\n",
    "print('\\nOpening new account, new list af all accounts')\n",
    "bank.open_account(SavingsAccount, '312312332343')\n",
    "for b in bank.accounts:\n",
    "    print(b)\n",
    "print('\\nTrying to open the same account')\n",
    "bank.open_account(SavingsAccount, '312312332343')\n",
    "print('\\nClosing account')\n",
    "bank.close_account('312312332343')\n",
    "for b in bank.accounts:\n",
    "    print(b)\n",
    "print('\\nDividents')\n",
    "bank.divident(10)\n",
    "for b in bank.accounts:\n",
    "    print(b)"
   ]
  }
 ],
 "metadata": {
  "kernelspec": {
   "display_name": "Python 3 (ipykernel)",
   "language": "python",
   "name": "python3"
  },
  "language_info": {
   "codemirror_mode": {
    "name": "ipython",
    "version": 3
   },
   "file_extension": ".py",
   "mimetype": "text/x-python",
   "name": "python",
   "nbconvert_exporter": "python",
   "pygments_lexer": "ipython3",
   "version": "3.11.0"
  }
 },
 "nbformat": 4,
 "nbformat_minor": 5
}
