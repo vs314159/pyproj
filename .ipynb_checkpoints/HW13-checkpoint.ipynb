{
 "cells": [
  {
   "cell_type": "markdown",
   "id": "f6abd595",
   "metadata": {},
   "source": [
    "## Practice"
   ]
  },
  {
   "cell_type": "markdown",
   "id": "bfadca39",
   "metadata": {},
   "source": [
    "1. Create a decorator that will check types. It should take a function with arguments and validate inputs with annotations.\n",
    "\n",
    "Example:\n",
    "\n",
    "    @check_types\n",
    "    def add(a: int, b: int) -> int:\n",
    "        return a + b\n",
    "\n",
    "    add(1, 2)\n",
    "    > 3\n",
    "\n",
    "    add(1, \"2\")\n",
    "    > TypeError: Argument b must be int, not str"
   ]
  },
  {
   "cell_type": "code",
   "execution_count": 1,
   "id": "572e4f4f",
   "metadata": {},
   "outputs": [],
   "source": [
    "'''\n",
    "функція перевіряє на рівність таких типів, \n",
    "як list[int], tuple[tuple[str]], dict[str, int]\n",
    "Щось на зразок list[int, str, float] не передбачається\n",
    "'''\n",
    "def check_generic_type(tp, obj):\n",
    "    if tp.__origin__ == type(obj):\n",
    "        dt = tp.__args__  # data types\n",
    "        if type(obj) == dict:\n",
    "            # змінні суто для читабельності\n",
    "            keys = all(type(a) == dt[0] for a in obj.keys())\n",
    "            vals = all(type(a) == dt[1] for a in obj.values())\n",
    "            return keys and vals\n",
    "        elif type(dt[0]) == type:\n",
    "            return all(type(a) == dt[0] for a in obj)\n",
    "        else:\n",
    "            return all(check_generic_type(dt[0], a) for a in obj)\n",
    "    else:\n",
    "        return False\n",
    "\n",
    "\n",
    "def check_inv_arg(arg, ann_type, name):\n",
    "    msg = 'TypeError: Argument {arg} must be {ann_type}, not {act_type}'\n",
    "    if type(ann_type) == type:\n",
    "        if ann_type != type(arg):\n",
    "            return msg.format(arg=name, ann_type=ann_type, act_type=type(arg))\n",
    "    else:\n",
    "        is_ok = check_generic_type(ann_type, arg)\n",
    "        if not is_ok:\n",
    "            #raise TypeError(msg.format(arg=name, ann_type=ann_type, act_type=type(arg)))\n",
    "            return msg.format(arg=name, ann_type=ann_type, act_type=type(arg))\n",
    "\n",
    "\n",
    "def check_types(func):\n",
    "    def wrapper(*args, **kwargs):\n",
    "        type_info = func.__annotations__\n",
    "        # functions with *args, **kwargs\n",
    "        try:\n",
    "            func(*args, **kwargs, test=42)  # тест на *args, **kwargs у самі функції\n",
    "            # тип для args і kwargs, в анотації вказується один на всіх\n",
    "            ann_type = [i for i in type_info.values()]\n",
    "            for arg in args:\n",
    "                msg = check_inv_arg(arg, ann_type[0], arg)\n",
    "                if msg:\n",
    "                    print(msg)\n",
    "                    return None\n",
    "            for name, arg in kwargs.items():\n",
    "                msg = check_inv_arg(arg, ann_type[1], name)\n",
    "                if msg:\n",
    "                    print(msg)\n",
    "                    return None\n",
    "        except:  # тут всі інші функції, без *args, **kwargs\n",
    "            for arg, (name, ann_type) in zip(args, type_info.items()):\n",
    "                msg = check_inv_arg(arg, ann_type, name)\n",
    "                if msg:\n",
    "                    print(msg)\n",
    "                    return None\n",
    "        return func(*args, **kwargs)\n",
    "    return wrapper"
   ]
  },
  {
   "cell_type": "code",
   "execution_count": 2,
   "id": "1b6b4daa",
   "metadata": {},
   "outputs": [],
   "source": [
    "@check_types\n",
    "def add(a: int, b: int) -> int:\n",
    "    return a + b\n",
    "\n",
    "\n",
    "@check_types\n",
    "def compute_difference(first: list[int], second: list[int]) -> tuple:\n",
    "    return ([i for i in first if i not in second], [i for i in second if i not in first])\n",
    "\n",
    "\n",
    "@check_types\n",
    "def smth_different(*a: list[str], **kw: int):\n",
    "    return 'No errors'"
   ]
  },
  {
   "cell_type": "code",
   "execution_count": 3,
   "id": "7ad005fe",
   "metadata": {
    "scrolled": true
   },
   "outputs": [
    {
     "name": "stdout",
     "output_type": "stream",
     "text": [
      "TypeError: Argument b must be <class 'int'>, not <class 'str'>\n",
      "add ->  None\n"
     ]
    },
    {
     "ename": "TypeError",
     "evalue": "TypeError: Argument second must be list[int], not <class 'list'>",
     "output_type": "error",
     "traceback": [
      "\u001b[1;31m---------------------------------------------------------------------------\u001b[0m",
      "\u001b[1;31mTypeError\u001b[0m                                 Traceback (most recent call last)",
      "Cell \u001b[1;32mIn [1], line 39\u001b[0m, in \u001b[0;36mcheck_types.<locals>.wrapper\u001b[1;34m(*args, **kwargs)\u001b[0m\n\u001b[0;32m     38\u001b[0m \u001b[38;5;28;01mtry\u001b[39;00m:\n\u001b[1;32m---> 39\u001b[0m     \u001b[43mfunc\u001b[49m\u001b[43m(\u001b[49m\u001b[38;5;241;43m*\u001b[39;49m\u001b[43margs\u001b[49m\u001b[43m,\u001b[49m\u001b[43m \u001b[49m\u001b[38;5;241;43m*\u001b[39;49m\u001b[38;5;241;43m*\u001b[39;49m\u001b[43mkwargs\u001b[49m\u001b[43m,\u001b[49m\u001b[43m \u001b[49m\u001b[43mtest\u001b[49m\u001b[38;5;241;43m=\u001b[39;49m\u001b[38;5;241;43m42\u001b[39;49m\u001b[43m)\u001b[49m  \u001b[38;5;66;03m# тест на *args, **kwargs у самі функції\u001b[39;00m\n\u001b[0;32m     40\u001b[0m     \u001b[38;5;66;03m# тип для args і kwargs, в анотації вказується один на всіх\u001b[39;00m\n",
      "\u001b[1;31mTypeError\u001b[0m: compute_difference() got an unexpected keyword argument 'test'",
      "\nDuring handling of the above exception, another exception occurred:\n",
      "\u001b[1;31mTypeError\u001b[0m                                 Traceback (most recent call last)",
      "Cell \u001b[1;32mIn [3], line 2\u001b[0m\n\u001b[0;32m      1\u001b[0m \u001b[38;5;28mprint\u001b[39m(\u001b[38;5;124m'\u001b[39m\u001b[38;5;124madd -> \u001b[39m\u001b[38;5;124m'\u001b[39m, add(\u001b[38;5;241m1\u001b[39m, \u001b[38;5;124m'\u001b[39m\u001b[38;5;124m2\u001b[39m\u001b[38;5;124m'\u001b[39m))\n\u001b[1;32m----> 2\u001b[0m \u001b[38;5;28mprint\u001b[39m(\u001b[38;5;124m'\u001b[39m\u001b[38;5;124mcompute_difference -> \u001b[39m\u001b[38;5;124m'\u001b[39m, \u001b[43mcompute_difference\u001b[49m\u001b[43m(\u001b[49m\u001b[43m[\u001b[49m\u001b[38;5;241;43m2133\u001b[39;49m\u001b[43m,\u001b[49m\u001b[43m \u001b[49m\u001b[38;5;241;43m1311\u001b[39;49m\u001b[43m,\u001b[49m\u001b[43m \u001b[49m\u001b[38;5;241;43m42\u001b[39;49m\u001b[43m]\u001b[49m\u001b[43m,\u001b[49m\u001b[43m \u001b[49m\u001b[43m[\u001b[49m\u001b[38;5;124;43m'\u001b[39;49m\u001b[38;5;124;43m23\u001b[39;49m\u001b[38;5;124;43m'\u001b[39;49m\u001b[43m,\u001b[49m\u001b[43m \u001b[49m\u001b[38;5;241;43m42\u001b[39;49m\u001b[43m]\u001b[49m\u001b[43m)\u001b[49m)\n\u001b[0;32m      3\u001b[0m \u001b[38;5;28mprint\u001b[39m(\u001b[38;5;124m'\u001b[39m\u001b[38;5;124msmth_different -> \u001b[39m\u001b[38;5;124m'\u001b[39m, smth_different([\u001b[38;5;124m'\u001b[39m\u001b[38;5;124mpy\u001b[39m\u001b[38;5;124m'\u001b[39m, \u001b[38;5;124m'\u001b[39m\u001b[38;5;124mthon\u001b[39m\u001b[38;5;124m'\u001b[39m, \u001b[38;5;124m'\u001b[39m\u001b[38;5;124madd\u001b[39m\u001b[38;5;124m'\u001b[39m], v\u001b[38;5;241m=\u001b[39m\u001b[38;5;241m3\u001b[39m, vv\u001b[38;5;241m=\u001b[39m\u001b[38;5;124m'\u001b[39m\u001b[38;5;124m11\u001b[39m\u001b[38;5;124m'\u001b[39m))\n",
      "Cell \u001b[1;32mIn [1], line 54\u001b[0m, in \u001b[0;36mcheck_types.<locals>.wrapper\u001b[1;34m(*args, **kwargs)\u001b[0m\n\u001b[0;32m     52\u001b[0m \u001b[38;5;28;01mexcept\u001b[39;00m:  \u001b[38;5;66;03m# тут всі інші функції, без *args, **kwargs\u001b[39;00m\n\u001b[0;32m     53\u001b[0m     \u001b[38;5;28;01mfor\u001b[39;00m arg, (name, ann_type) \u001b[38;5;129;01min\u001b[39;00m \u001b[38;5;28mzip\u001b[39m(args, type_info\u001b[38;5;241m.\u001b[39mitems()):\n\u001b[1;32m---> 54\u001b[0m         msg \u001b[38;5;241m=\u001b[39m \u001b[43mcheck_inv_arg\u001b[49m\u001b[43m(\u001b[49m\u001b[43marg\u001b[49m\u001b[43m,\u001b[49m\u001b[43m \u001b[49m\u001b[43mann_type\u001b[49m\u001b[43m,\u001b[49m\u001b[43m \u001b[49m\u001b[43mname\u001b[49m\u001b[43m)\u001b[49m\n\u001b[0;32m     55\u001b[0m         \u001b[38;5;28;01mif\u001b[39;00m msg:\n\u001b[0;32m     56\u001b[0m             \u001b[38;5;28mprint\u001b[39m(msg)\n",
      "Cell \u001b[1;32mIn [1], line 30\u001b[0m, in \u001b[0;36mcheck_inv_arg\u001b[1;34m(arg, ann_type, name)\u001b[0m\n\u001b[0;32m     28\u001b[0m is_ok \u001b[38;5;241m=\u001b[39m check_generic_type(ann_type, arg)\n\u001b[0;32m     29\u001b[0m \u001b[38;5;28;01mif\u001b[39;00m \u001b[38;5;129;01mnot\u001b[39;00m is_ok:\n\u001b[1;32m---> 30\u001b[0m     \u001b[38;5;28;01mraise\u001b[39;00m \u001b[38;5;167;01mTypeError\u001b[39;00m(msg\u001b[38;5;241m.\u001b[39mformat(arg\u001b[38;5;241m=\u001b[39mname, ann_type\u001b[38;5;241m=\u001b[39mann_type, act_type\u001b[38;5;241m=\u001b[39m\u001b[38;5;28mtype\u001b[39m(arg)))\n",
      "\u001b[1;31mTypeError\u001b[0m: TypeError: Argument second must be list[int], not <class 'list'>"
     ]
    }
   ],
   "source": [
    "print('add -> ', add(1, '2'))\n",
    "print('compute_difference -> ', compute_difference([2133, 1311, 42], ['23', 42]))\n",
    "print('smth_different -> ', smth_different(['py', 'thon', 'add'], v=3, vv='11'))"
   ]
  },
  {
   "cell_type": "markdown",
   "id": "02a755ca",
   "metadata": {},
   "source": [
    "## 2. Write a decorator that will calculate the execution time of a function.\n",
    "\n",
    "Example:\n",
    "    \n",
    "        @calculate_execution_time\n",
    "        def add(a: int, b: int) -> int:\n",
    "            return a + b\n",
    "    \n",
    "        add(1, 2)\n",
    "        > 3\n",
    "        > Execution time: 0.0005 seconds"
   ]
  },
  {
   "cell_type": "code",
   "execution_count": 494,
   "id": "143d96b1",
   "metadata": {},
   "outputs": [],
   "source": [
    "from datetime import datetime"
   ]
  },
  {
   "cell_type": "code",
   "execution_count": 523,
   "id": "a0a2ebf9",
   "metadata": {},
   "outputs": [],
   "source": [
    "def calculate_execution_time(func):\n",
    "    def wrapper(*args, **kwargs):\n",
    "        start = datetime.now()\n",
    "        func(*args, **kwargs)\n",
    "        finish = datetime.now()\n",
    "        # microseconds, а не seconds, щоб були нецілі і більш точні значення\n",
    "        return f'Exetution time of function \"{func.__name__}\": {(finish - start).microseconds/10**6} seconds'\n",
    "    return wrapper"
   ]
  },
  {
   "cell_type": "code",
   "execution_count": 524,
   "id": "afdd6e28",
   "metadata": {},
   "outputs": [],
   "source": [
    "@calculate_execution_time\n",
    "def t(n):\n",
    "    for i in range(n):\n",
    "        i"
   ]
  },
  {
   "cell_type": "code",
   "execution_count": 525,
   "id": "1bca80ad",
   "metadata": {},
   "outputs": [
    {
     "data": {
      "text/plain": [
       "'Exetution time of function \"t\": 0.43321 seconds'"
      ]
     },
     "execution_count": 525,
     "metadata": {},
     "output_type": "execute_result"
    }
   ],
   "source": [
    "t(10**8)"
   ]
  },
  {
   "cell_type": "code",
   "execution_count": null,
   "id": "175be68f",
   "metadata": {},
   "outputs": [],
   "source": []
  }
 ],
 "metadata": {
  "kernelspec": {
   "display_name": "Python 3 (ipykernel)",
   "language": "python",
   "name": "python3"
  },
  "language_info": {
   "codemirror_mode": {
    "name": "ipython",
    "version": 3
   },
   "file_extension": ".py",
   "mimetype": "text/x-python",
   "name": "python",
   "nbconvert_exporter": "python",
   "pygments_lexer": "ipython3",
   "version": "3.11.0"
  }
 },
 "nbformat": 4,
 "nbformat_minor": 5
}
