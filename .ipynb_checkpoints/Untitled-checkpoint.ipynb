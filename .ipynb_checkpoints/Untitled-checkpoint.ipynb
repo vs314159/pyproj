{
 "cells": [
  {
   "cell_type": "markdown",
   "id": "601fa556",
   "metadata": {},
   "source": [
    "## Practice\n",
    "\n",
    "1. Write a Python class named Circle constructed by a radius and two methods which will compute the area and the perimeter of a circle."
   ]
  },
  {
   "cell_type": "code",
   "execution_count": 51,
   "id": "8fe05a47",
   "metadata": {},
   "outputs": [],
   "source": [
    "from math import pi"
   ]
  },
  {
   "cell_type": "code",
   "execution_count": 60,
   "id": "9c76a5b4",
   "metadata": {},
   "outputs": [],
   "source": [
    "class Circle:\n",
    "    def __init__(self, radius):\n",
    "        if isinstance(radius, complex):\n",
    "            print(f'Радіус не може бути комплексним числом, змінено з \"{radius}\" на \"{radius.real}\"')\n",
    "            self.radius = radius.real\n",
    "        if radius < 0:\n",
    "            print(f'Радіус не може бути менше нуля, змінено з \"{radius}\" на \"{-radius}\"')\n",
    "        self.radius = abs(radius)\n",
    "        \n",
    "    def perimeter(self):\n",
    "        return 2 * pi * self.radius\n",
    "    \n",
    "    def area(self):\n",
    "        return pi * self.radius ** 2"
   ]
  },
  {
   "cell_type": "markdown",
   "id": "e894f360",
   "metadata": {},
   "source": [
    "2. Write a Python program to create two empty classes, Student and Marks. Now create some instances and check whether they are instances of the said classes or not. Also, check whether the said classes are subclasses of the built-in object class or not."
   ]
  },
  {
   "cell_type": "code",
   "execution_count": 72,
   "id": "2c63c030",
   "metadata": {},
   "outputs": [
    {
     "name": "stdout",
     "output_type": "stream",
     "text": [
      "Створений об`єкт має тип <class '__main__.Student'>? - True\n",
      "Створений об`єкт має тип <class '__main__.Marks'>? - False\n",
      "Створений об`єкт має тип <class 'str'>? - False\n",
      "Створений об`єкт має тип <class 'int'>? - False\n",
      "Створений об`єкт має тип <class 'object'>? - True\n"
     ]
    }
   ],
   "source": [
    "class Student:\n",
    "    pass\n",
    "\n",
    "class Marks:\n",
    "    pass\n",
    "\n",
    "obj = Student()\n",
    "types = (Student, Marks, str, int, object)\n",
    "for type_ in types:\n",
    "    print(f'Створений об`єкт має тип {type_}? - {isinstance(obj, type_)}')"
   ]
  },
  {
   "cell_type": "markdown",
   "id": "b5659e7d",
   "metadata": {},
   "source": [
    "3. A Bank\n",
    "    1. Using the Account class as a base class, write two derived classes called SavingsAccount and CurrentAccount. A SavingsAccount object, in addition to the attributes of an Account object, should have an interest attribute and a method which adds interest to the account. A CurrentAccount object, in addition to the attributes of an Account object, should have an overdraft limit attribute.\n",
    "\n",
    "    2. Now create a Bank class, an object of which contains an array of Account objects. Accounts in the array could be instances of the Account class, the SavingsAccount class, or the CurrentAccount class. Create some test accounts (some of each type).\n",
    "\n",
    "    3. Write an update method in the Bank class. It iterates through each account, updating it in the following ways: Savings accounts get interest added (via the method you already wrote); CurrentAccounts get a letter sent if they are in overdraft. (use print to 'send' the letter).\n",
    "\n",
    "    4. The Bank class requires methods for opening and closing accounts, and for paying a dividend into each account."
   ]
  },
  {
   "cell_type": "code",
   "execution_count": 74,
   "id": "d78590a4",
   "metadata": {},
   "outputs": [],
   "source": [
    "class Account:\n",
    "    def __init__(self, balance, account_number):\n",
    "        self._balance = balance\n",
    "        self._account_number = account_number\n",
    "    \n",
    "    @classmethod\n",
    "    def create_account(cls, account_number):\n",
    "        return cls(0.0, account_number)\n",
    "    \n",
    "    def deposit(self, amount):\n",
    "        if amount > 0:\n",
    "            self._balance += amount\n",
    "        else:\n",
    "            raise ValueError('Amount must be positive')\n",
    "\n",
    "    def withdraw(self, amount):\n",
    "        if amount > 0:\n",
    "            self._balance -= amount\n",
    "        else:\n",
    "            raise ValueError('Amount must be positive')\n",
    "\n",
    "    def get_balance(self):\n",
    "        return self._balance\n",
    "    \n",
    "    def get_account_number(self):\n",
    "        return self._account_number\n",
    "    \n",
    "    def __str__(self):\n",
    "        return f'Account number: {self._account_number}, balance: {self._balance}'\n"
   ]
  },
  {
   "cell_type": "code",
   "execution_count": 79,
   "id": "32ce8d5f",
   "metadata": {},
   "outputs": [],
   "source": [
    "class SavingsAccount(Account):\n",
    "    def add_interest(self, interest):\n",
    "        self.interest = interest\n",
    "\n",
    "class CurrentAccount(Account):\n",
    "    def __init__(self, balance, account_number, overdraft_limit):\n",
    "        super().__init__(balance, account_number)\n",
    "        self.overdraft_limit = overdraft_limit"
   ]
  },
  {
   "cell_type": "code",
   "execution_count": 92,
   "id": "703d8021",
   "metadata": {},
   "outputs": [],
   "source": [
    "class Bank:\n",
    "    def __init__(self, accounts: list[Account]):\n",
    "        self.accounts = accounts\n",
    "    \n",
    "    def update(self):\n",
    "        for acc in self.accounts:\n",
    "            if isinstance(acc, SavingsAccount):\n",
    "                acc.add_interest\n",
    "            if isinstance(acc, CurrentAccount):\n",
    "                if acc.balance < acc.overdraft_limit:\n",
    "                    print('Where is my money, Lebovsky?')"
   ]
  },
  {
   "cell_type": "code",
   "execution_count": 93,
   "id": "4f7e8d84",
   "metadata": {},
   "outputs": [],
   "source": [
    "bank = Bank([Account(130, '123123'), SavingsAccount(22, '312313'), CurrentAccount(1231, '1231231233', 233)])"
   ]
  },
  {
   "cell_type": "code",
   "execution_count": 94,
   "id": "5f1de642",
   "metadata": {},
   "outputs": [
    {
     "name": "stdout",
     "output_type": "stream",
     "text": [
      "130\n",
      "22\n",
      "1231\n"
     ]
    }
   ],
   "source": [
    "for b in bank.accounts:\n",
    "    print(b._balance)"
   ]
  },
  {
   "cell_type": "code",
   "execution_count": null,
   "id": "2006ba13",
   "metadata": {},
   "outputs": [],
   "source": []
  }
 ],
 "metadata": {
  "kernelspec": {
   "display_name": "Python 3 (ipykernel)",
   "language": "python",
   "name": "python3"
  },
  "language_info": {
   "codemirror_mode": {
    "name": "ipython",
    "version": 3
   },
   "file_extension": ".py",
   "mimetype": "text/x-python",
   "name": "python",
   "nbconvert_exporter": "python",
   "pygments_lexer": "ipython3",
   "version": "3.11.0"
  }
 },
 "nbformat": 4,
 "nbformat_minor": 5
}
