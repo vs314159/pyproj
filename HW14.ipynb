{
 "cells": [
  {
   "cell_type": "markdown",
   "id": "67b32cee",
   "metadata": {},
   "source": [
    "### Practice\n",
    "\n",
    "1. Modify the Country class to include a third instance attribute called capital as a string. Store your new class in a script and test it out by adding the following code at the bottom of the script:\n",
    "```\n",
    "japan = Country('Japan', 140_000_000, 'Tokyo')\n",
    "print(f\"{japan.name} population is {japan.population} and capital is {japan.capital}.\") \n",
    "```\n",
    "The output of your script should be:\n",
    "\n",
    "Japan population is 140000000 and capital is Tokyo."
   ]
  },
  {
   "cell_type": "code",
   "execution_count": 7,
   "id": "4818939b",
   "metadata": {},
   "outputs": [],
   "source": [
    "class Country:\n",
    "    def __init__(self, name, population, capital=None):\n",
    "        self.name = name\n",
    "        self.population = population\n",
    "        self.capital = capital"
   ]
  },
  {
   "cell_type": "code",
   "execution_count": 8,
   "id": "b6d499c4",
   "metadata": {},
   "outputs": [
    {
     "name": "stdout",
     "output_type": "stream",
     "text": [
      "Japan population is 140000000 and capital is Tokyo.\n"
     ]
    }
   ],
   "source": [
    "japan = Country('Japan', 140_000_000, 'Tokyo')\n",
    "print(f\"{japan.name} population is {japan.population} and capital is {japan.capital}.\") "
   ]
  },
  {
   "cell_type": "markdown",
   "id": "0b7c6d2f",
   "metadata": {},
   "source": [
    "2. Add increase_population method to country class. This method should take an argument and increase population of the country on this number. "
   ]
  },
  {
   "cell_type": "code",
   "execution_count": 14,
   "id": "02a0c746",
   "metadata": {},
   "outputs": [],
   "source": [
    "class Country:\n",
    "    def __init__(self, name, population):\n",
    "        self.name = name\n",
    "        self.population = population\n",
    "        self.capital = capital\n",
    "    \n",
    "    def increase_population(self, new_people):\n",
    "        self.population += new_people"
   ]
  },
  {
   "cell_type": "markdown",
   "id": "4098712c",
   "metadata": {},
   "source": [
    "3. Create add method to add two countries together. This method should create another country object with the name of the two countries combined and population of the two countries added together.\n",
    "```\n",
    "bosnia = Country('Bosnia', 10_000_000)\n",
    "herzegovina = Country('Herzegovina', 5_000_000)\n",
    "bosnia_herzegovina = bosnia.add(herzegovina)\n",
    "bosnia_herzegovina.population -> 15_000_000\n",
    "bosnia_herzegovina.name -> 'Bosnia Herzegovina'\n",
    "```"
   ]
  },
  {
   "cell_type": "code",
   "execution_count": 46,
   "id": "e0ee02c8",
   "metadata": {},
   "outputs": [],
   "source": [
    "class Country:\n",
    "    def __init__(self, name, population):\n",
    "        self.name = name\n",
    "        self.population = population\n",
    "        \n",
    "    def add(self, other):\n",
    "        name = self.name + ' ' + other.name\n",
    "        pop = self.population + other.population\n",
    "        return Country(name, pop)"
   ]
  },
  {
   "cell_type": "code",
   "execution_count": 47,
   "id": "a31460c2",
   "metadata": {},
   "outputs": [
    {
     "name": "stdout",
     "output_type": "stream",
     "text": [
      "population: 15000000\n",
      "name: Bosnia Herzegovina\n"
     ]
    }
   ],
   "source": [
    "bosnia = Country('Bosnia', 10_000_000)\n",
    "herzegovina = Country('Herzegovina', 5_000_000)\n",
    "bosnia_herzegovina = bosnia.add(herzegovina)\n",
    "print(f'population: {bosnia_herzegovina.population}',\n",
    "      f'name: {bosnia_herzegovina.name}', sep = '\\n')"
   ]
  },
  {
   "cell_type": "markdown",
   "id": "4bfa963c",
   "metadata": {},
   "source": [
    "4. (Optional) Implement previous method with magic method\n",
    "\n",
    "```\n",
    "bosnia = Country('Bosnia', 10_000_000)\n",
    "herzegovina = Country('Herzegovina', 5_000_000)\n",
    "\n",
    "bosnia_herzegovina = bosnia + herzegovina\n",
    "bosnia_herzegovina.population -> 15_000_000\n",
    "bosnia_herzegovina.name -> 'Bosnia Herzegovina'\n",
    "```"
   ]
  },
  {
   "cell_type": "code",
   "execution_count": 48,
   "id": "3f8ec05d",
   "metadata": {},
   "outputs": [],
   "source": [
    "class Country:\n",
    "    def __init__(self, name, population):\n",
    "        self.name = name\n",
    "        self.population = population\n",
    "        \n",
    "    def __add__(self, other):\n",
    "        name = self.name + ' ' + other.name\n",
    "        pop = self.population + other.population\n",
    "        return Country(name, pop)"
   ]
  },
  {
   "cell_type": "code",
   "execution_count": 50,
   "id": "edfaa862",
   "metadata": {},
   "outputs": [
    {
     "name": "stdout",
     "output_type": "stream",
     "text": [
      "population: 15000000\n",
      "name: Bosnia Herzegovina\n"
     ]
    }
   ],
   "source": [
    "bosnia = Country('Bosnia', 10_000_000)\n",
    "herzegovina = Country('Herzegovina', 5_000_000)\n",
    "\n",
    "bosnia_herzegovina = bosnia + herzegovina\n",
    "print(f'population: {bosnia_herzegovina.population}',\n",
    "      f'name: {bosnia_herzegovina.name}', sep = '\\n')"
   ]
  }
 ],
 "metadata": {
  "kernelspec": {
   "display_name": "Python 3 (ipykernel)",
   "language": "python",
   "name": "python3"
  },
  "language_info": {
   "codemirror_mode": {
    "name": "ipython",
    "version": 3
   },
   "file_extension": ".py",
   "mimetype": "text/x-python",
   "name": "python",
   "nbconvert_exporter": "python",
   "pygments_lexer": "ipython3",
   "version": "3.11.0"
  }
 },
 "nbformat": 4,
 "nbformat_minor": 5
}
