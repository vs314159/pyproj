{
 "cells": [
  {
   "cell_type": "code",
   "execution_count": 28,
   "id": "113ae352",
   "metadata": {},
   "outputs": [],
   "source": [
    "import random\n",
    "import csv\n",
    "import os\n",
    "import pandas as pd"
   ]
  },
  {
   "cell_type": "code",
   "execution_count": 18,
   "id": "ca844a73",
   "metadata": {},
   "outputs": [],
   "source": [
    "def write(file_name, header, data):\n",
    "    with open(file_name, mode='w') as file:\n",
    "        writer = csv.writer(file)\n",
    "        writer.writerow(header)\n",
    "        writer.writerows(data)"
   ]
  },
  {
   "cell_type": "markdown",
   "id": "47c7b376",
   "metadata": {},
   "source": [
    "## Task 1\n",
    "\n",
    "Write a program that will simulate user score in a game. Create a list with 5 player's names. After that simulate 100 games for each player. As a result of the game create a list with player's name and his score (0-1000 range). And save it to a CSV file. File should looks like this:\n",
    " ```\n",
    "    Player name, Score\n",
    "    Josh, 56\n",
    "    Luke, 784\n",
    "    Kate, 90\n",
    "    Mark, 125\n",
    "    Mary, 877\n",
    "    Josh, 345\n",
    "    ...\n",
    " ```"
   ]
  },
  {
   "cell_type": "code",
   "execution_count": 19,
   "id": "94857126",
   "metadata": {},
   "outputs": [],
   "source": [
    "players = ('Rick', 'Morty', 'Summer', 'Beth', 'Jerry')\n",
    "data = tuple((name, *random.sample(range(1001), k=100)) for name in players)\n",
    "header = ('Player', ) + tuple('Game_' + str(i) for i in range(1, 101))\n",
    "write('scores.csv', header, data)"
   ]
  },
  {
   "cell_type": "markdown",
   "id": "65b01b4e",
   "metadata": {},
   "source": [
    "## Task 2\n",
    "\n",
    "Write a script that reads the data from previous CSV file and creates a new file called high_scores.csv where each row contains the player name and their highest score. Final score should sorted by descending of highest score\n",
    "\n",
    "The output CSV file should look like this:\n",
    "\n",
    "    \n",
    "    Player name, Highest score\n",
    "    Kate, 907\n",
    "    Mary, 897\n",
    "    Luke, 784\n",
    "    Mark, 725\n",
    "    Josh, 345"
   ]
  },
  {
   "cell_type": "code",
   "execution_count": 21,
   "id": "fd07eb4b",
   "metadata": {},
   "outputs": [],
   "source": [
    "data = []\n",
    "with open('scores.csv', mode='r') as file:\n",
    "    reader = csv.reader(file)\n",
    "    for row in reader:\n",
    "        if row and row[1] != ' Game_1':\n",
    "            name = row[0]\n",
    "            scores = tuple(map(int, row[1:]))\n",
    "            data += [(name, max(scores))]\n",
    "data.sort(key=lambda x: x[1], reverse=True)\n",
    "header = ('Player', 'Highest_score')\n",
    "write('highest_score.csv', header, data)"
   ]
  },
  {
   "cell_type": "markdown",
   "id": "35a9fde1",
   "metadata": {},
   "source": [
    "## Task 3\n",
    "\n",
    "Зчитати файл hw.csv і визначити середні зріст і вагу в метричних одиницях вимірювання"
   ]
  },
  {
   "cell_type": "code",
   "execution_count": 46,
   "id": "bf8492b4",
   "metadata": {},
   "outputs": [],
   "source": [
    "# Допоміжна функція, що шукає файл із \"засміченою\" назвою\n",
    "# наприклад, замість name.csv можливо буде прочитати файл name(1)(3)(42).csv\n",
    "def find_file(start, end, path=None):\n",
    "    files = os.listdir(path)\n",
    "    for f in files:\n",
    "        if f.startswith(start) and f.endswith(end):\n",
    "            return f"
   ]
  },
  {
   "cell_type": "code",
   "execution_count": 54,
   "id": "3fb14b7e",
   "metadata": {},
   "outputs": [],
   "source": [
    "# Головна функція, що зчитує і оброблює інформацію\n",
    "def read_and_process(target, path=None, way='csv'):\n",
    "    metric_conv = {'m': 0.0254, 'kg': 0.45359237}\n",
    "    start, end = target.split('.')\n",
    "    file = find_file(start, end, path)\n",
    "    if file is None:\n",
    "        dir_ = path if path else 'цій'\n",
    "        print(f'Не знайшли файл {target} у {dir_} директорії')\n",
    "        return None\n",
    "    match way:\n",
    "        case 'csv':\n",
    "            height = []\n",
    "            weight = []\n",
    "            with open(file, mode='r') as file:\n",
    "                reader = csv.reader(file)\n",
    "                for row in reader:\n",
    "                    if row and row[0] != \"Index\":\n",
    "                        height += [float(row[1]) * metric_conv['m']]\n",
    "                        weight += [float(row[2]) * metric_conv['kg']]\n",
    "            # flake8 свариться на lambda функцію\n",
    "            # але не вважаю доцільним створбвати цю ф-цію через def\n",
    "            mean = lambda x: round(sum(x)/len(x), 2)\n",
    "            print(f\"Середній зріст: {mean(height)} м\",\n",
    "                  f\"Середня вага: {mean(weight)} кг\",\n",
    "                  sep='\\n')\n",
    "        # результат не змінився, але хотілося об'єднати\n",
    "        # 2 способи в одну функцію\n",
    "        case 'pandas':\n",
    "            data = pd.read_csv(file, header=0, index_col=0)\n",
    "            h = round((data.iloc[:, 0] * metric_conv['m']).mean(), 2)\n",
    "            w = round((data.iloc[:, 1] * metric_conv['kg']).mean(), 2)\n",
    "            print(f\"Середній зріст: {h} м\",\n",
    "                  f\"Середня вага: {w} кг\",\n",
    "                  sep='\\n')\n",
    "        case _:\n",
    "            print('Не знаю такого способу, спробуйте \"csv\" чи \"pandas\"')"
   ]
  },
  {
   "cell_type": "code",
   "execution_count": 56,
   "id": "6fda3bdd",
   "metadata": {},
   "outputs": [
    {
     "name": "stdout",
     "output_type": "stream",
     "text": [
      "Середній зріст: 1.73 м\n",
      "Середня вага: 57.64 кг\n"
     ]
    }
   ],
   "source": [
    "read_and_process('hw.csv', way='pandas')"
   ]
  }
 ],
 "metadata": {
  "kernelspec": {
   "display_name": "Python 3 (ipykernel)",
   "language": "python",
   "name": "python3"
  },
  "language_info": {
   "codemirror_mode": {
    "name": "ipython",
    "version": 3
   },
   "file_extension": ".py",
   "mimetype": "text/x-python",
   "name": "python",
   "nbconvert_exporter": "python",
   "pygments_lexer": "ipython3",
   "version": "3.11.0"
  }
 },
 "nbformat": 4,
 "nbformat_minor": 5
}
