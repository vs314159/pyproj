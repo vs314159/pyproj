{
 "cells": [
  {
   "cell_type": "code",
   "execution_count": 35,
   "id": "113ae352",
   "metadata": {},
   "outputs": [],
   "source": [
    "import random\n",
    "import csv\n",
    "import pandas as pd"
   ]
  },
  {
   "cell_type": "code",
   "execution_count": 18,
   "id": "ca844a73",
   "metadata": {},
   "outputs": [],
   "source": [
    "def write(file_name, header, data):\n",
    "    with open(file_name, mode='w') as file:\n",
    "        writer = csv.writer(file)\n",
    "        writer.writerow(header)\n",
    "        writer.writerows(data)"
   ]
  },
  {
   "cell_type": "markdown",
   "id": "47c7b376",
   "metadata": {},
   "source": [
    "## Task 1\n",
    "\n",
    "Write a program that will simulate user score in a game. Create a list with 5 player's names. After that simulate 100 games for each player. As a result of the game create a list with player's name and his score (0-1000 range). And save it to a CSV file. File should looks like this:\n",
    " ```\n",
    "    Player name, Score\n",
    "    Josh, 56\n",
    "    Luke, 784\n",
    "    Kate, 90\n",
    "    Mark, 125\n",
    "    Mary, 877\n",
    "    Josh, 345\n",
    "    ...\n",
    " ```"
   ]
  },
  {
   "cell_type": "code",
   "execution_count": 19,
   "id": "94857126",
   "metadata": {},
   "outputs": [],
   "source": [
    "players = ('Rick', 'Morty', 'Summer', 'Beth', 'Jerry')\n",
    "data = tuple((name, *random.sample(range(1001), k=100)) for name in players)\n",
    "header = ('Player', ) + tuple('Game_' + str(i) for i in range(1, 101))\n",
    "write('scores.csv', header, data)"
   ]
  },
  {
   "cell_type": "markdown",
   "id": "65b01b4e",
   "metadata": {},
   "source": [
    "## Task 2\n",
    "\n",
    "Write a script that reads the data from previous CSV file and creates a new file called high_scores.csv where each row contains the player name and their highest score. Final score should sorted by descending of highest score\n",
    "\n",
    "The output CSV file should look like this:\n",
    "\n",
    "    \n",
    "    Player name, Highest score\n",
    "    Kate, 907\n",
    "    Mary, 897\n",
    "    Luke, 784\n",
    "    Mark, 725\n",
    "    Josh, 345"
   ]
  },
  {
   "cell_type": "code",
   "execution_count": 21,
   "id": "fd07eb4b",
   "metadata": {},
   "outputs": [],
   "source": [
    "data = []\n",
    "with open('scores.csv', mode='r') as file:\n",
    "    reader = csv.reader(file)\n",
    "    for row in reader:\n",
    "        if row and row[1] != ' Game_1':\n",
    "            name = row[0]\n",
    "            scores = tuple(map(int, row[1:]))\n",
    "            data += [(name, max(scores))]\n",
    "data.sort(key=lambda x: x[1], reverse=True)\n",
    "header = ('Player', 'Highest_score')\n",
    "write('highest_score.csv', header, data)"
   ]
  },
  {
   "cell_type": "markdown",
   "id": "35a9fde1",
   "metadata": {},
   "source": [
    "## Task 3\n",
    "\n",
    "Зчитати файл hw.csv і визначити середні зріст і вагу в метричних одиницях вимірювання"
   ]
  },
  {
   "cell_type": "code",
   "execution_count": 34,
   "id": "0528c2af",
   "metadata": {},
   "outputs": [
    {
     "name": "stdout",
     "output_type": "stream",
     "text": [
      "Середній зріст: 1.73 м\n",
      "Середня вага: 57.64 кг\n"
     ]
    }
   ],
   "source": [
    "# Спосіб 1: csv library\n",
    "height = []\n",
    "weight = []\n",
    "with open('hw.csv', mode='r') as file:\n",
    "    reader = csv.reader(file)\n",
    "    for row in reader:\n",
    "        if row and row[0] != \"Index\":\n",
    "            height += [float(row[1]) * 0.0254]\n",
    "            weight += [float(row[2]) * 0.45359237]\n",
    "mean = lambda x: round(sum(x)/len(x), 2)\n",
    "print(f\"Середній зріст: {mean(height)} м\",\n",
    "      f\"Середня вага: {mean(weight)} кг\",\n",
    "      sep='\\n')"
   ]
  },
  {
   "cell_type": "code",
   "execution_count": 38,
   "id": "e3f51b41",
   "metadata": {},
   "outputs": [
    {
     "data": {
      "text/html": [
       "<div>\n",
       "<style scoped>\n",
       "    .dataframe tbody tr th:only-of-type {\n",
       "        vertical-align: middle;\n",
       "    }\n",
       "\n",
       "    .dataframe tbody tr th {\n",
       "        vertical-align: top;\n",
       "    }\n",
       "\n",
       "    .dataframe thead th {\n",
       "        text-align: right;\n",
       "    }\n",
       "</style>\n",
       "<table border=\"1\" class=\"dataframe\">\n",
       "  <thead>\n",
       "    <tr style=\"text-align: right;\">\n",
       "      <th></th>\n",
       "      <th>\"Height(Inches)\"</th>\n",
       "      <th>\"Weight(Pounds)\"</th>\n",
       "    </tr>\n",
       "    <tr>\n",
       "      <th>Index</th>\n",
       "      <th></th>\n",
       "      <th></th>\n",
       "    </tr>\n",
       "  </thead>\n",
       "  <tbody>\n",
       "    <tr>\n",
       "      <th>1</th>\n",
       "      <td>65.78331</td>\n",
       "      <td>112.9925</td>\n",
       "    </tr>\n",
       "    <tr>\n",
       "      <th>2</th>\n",
       "      <td>71.51521</td>\n",
       "      <td>136.4873</td>\n",
       "    </tr>\n",
       "    <tr>\n",
       "      <th>3</th>\n",
       "      <td>69.39874</td>\n",
       "      <td>153.0269</td>\n",
       "    </tr>\n",
       "    <tr>\n",
       "      <th>4</th>\n",
       "      <td>68.21660</td>\n",
       "      <td>142.3354</td>\n",
       "    </tr>\n",
       "    <tr>\n",
       "      <th>5</th>\n",
       "      <td>67.78781</td>\n",
       "      <td>144.2971</td>\n",
       "    </tr>\n",
       "  </tbody>\n",
       "</table>\n",
       "</div>"
      ],
      "text/plain": [
       "        \"Height(Inches)\"   \"Weight(Pounds)\"\n",
       "Index                                      \n",
       "1               65.78331           112.9925\n",
       "2               71.51521           136.4873\n",
       "3               69.39874           153.0269\n",
       "4               68.21660           142.3354\n",
       "5               67.78781           144.2971"
      ]
     },
     "execution_count": 38,
     "metadata": {},
     "output_type": "execute_result"
    }
   ],
   "source": [
    "# Спосіб 2: pandas library\n",
    "data = pd.read_csv('hw.csv', header=0, index_col=0)\n",
    "data.head()"
   ]
  },
  {
   "cell_type": "code",
   "execution_count": 44,
   "id": "325526a9",
   "metadata": {},
   "outputs": [
    {
     "name": "stdout",
     "output_type": "stream",
     "text": [
      "Середній зріст: 1.73 м\n",
      "Середня вага: 57.64 кг\n"
     ]
    }
   ],
   "source": [
    "h = round((data.iloc[:, 0] * 0.0254).mean(), 2)\n",
    "w = round((data.iloc[:, 1] * 0.45359237).mean(), 2)\n",
    "print(f\"Середній зріст: {h} м\",\n",
    "      f\"Середня вага: {w} кг\",\n",
    "      sep='\\n')"
   ]
  }
 ],
 "metadata": {
  "kernelspec": {
   "display_name": "Python 3 (ipykernel)",
   "language": "python",
   "name": "python3"
  },
  "language_info": {
   "codemirror_mode": {
    "name": "ipython",
    "version": 3
   },
   "file_extension": ".py",
   "mimetype": "text/x-python",
   "name": "python",
   "nbconvert_exporter": "python",
   "pygments_lexer": "ipython3",
   "version": "3.11.0"
  }
 },
 "nbformat": 4,
 "nbformat_minor": 5
}
