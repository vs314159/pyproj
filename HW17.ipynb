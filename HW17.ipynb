{
 "cells": [
  {
   "cell_type": "code",
   "execution_count": 1,
   "id": "f5e6aa4e",
   "metadata": {},
   "outputs": [],
   "source": [
    "import sqlite3"
   ]
  },
  {
   "cell_type": "code",
   "execution_count": 2,
   "id": "95ce7530",
   "metadata": {},
   "outputs": [],
   "source": [
    "conn = sqlite3.connect('airbnb_hw17.db')"
   ]
  },
  {
   "cell_type": "code",
   "execution_count": 3,
   "id": "c4968969",
   "metadata": {},
   "outputs": [],
   "source": [
    "hosts = '''\n",
    "CREATE TABLE IF NOT EXISTS hosts(\n",
    "   id serial PRIMARY KEY,\n",
    "   name VARCHAR(50) NOT NULL,\n",
    "   contacts VARCHAR(50) NOT NULL\n",
    ");'''\n",
    "\n",
    "guests = '''\n",
    "CREATE TABLE IF NOT EXISTS guests(\n",
    "   id serial PRIMARY KEY,\n",
    "   name VARCHAR(50) NOT NULL,\n",
    "   contacts VARCHAR(50) NOT NULL\n",
    ");\n",
    "'''\n",
    "\n",
    "rooms = '''\n",
    "CREATE TABLE IF NOT EXISTS rooms(\n",
    "   id serial PRIMARY KEY,\n",
    "   host_id INT NOT NULL,\n",
    "   title VARCHAR(50) NOT NULL,\n",
    "   description TEXT,\n",
    "   amount_guest INT CHECK (amount_guest > 0),\n",
    "   price MONEY NOT NULL,\n",
    "   location VARCHAR(100) NOT NULL,\n",
    "   air_conditioner BOOLEAN,\n",
    "\n",
    "   FOREIGN KEY (host_id)\n",
    "       REFERENCES hosts (id)\n",
    ");'''\n",
    "\n",
    "host_reviews = '''\n",
    "CREATE TABLE IF NOT EXISTS host_reviews(\n",
    "   id serial PRIMARY KEY,\n",
    "   description TEXT,\n",
    "   rating INT CHECK (rating >= 0 AND rating <= 10),\n",
    "   room_id INT NOT NULL,\n",
    "   host_id INT NOT NULL,\n",
    "   guest_id INT NOT NULL,\n",
    "   review_date TIMESTAMP NOT NULL,\n",
    "   \n",
    "   FOREIGN KEY (room_id)\n",
    "       REFERENCES rooms (id),\n",
    "   FOREIGN KEY (host_id)\n",
    "       REFERENCES hosts (id),\n",
    "   FOREIGN KEY (guest_id)\n",
    "       REFERENCES guests (id)\n",
    ");'''\n",
    "\n",
    "guest_reviews = '''\n",
    "CREATE TABLE IF NOT EXISTS guest_reviews(\n",
    "   id serial PRIMARY KEY,\n",
    "   description TEXT,\n",
    "   rating INT CHECK (rating >= 0 AND rating <= 10),\n",
    "   room_id INT NOT NULL,\n",
    "   guest_id INT NOT NULL,\n",
    "   review_date TIMESTAMP NOT NULL,\n",
    "   \n",
    "   FOREIGN KEY (room_id)\n",
    "       REFERENCES rooms (id),\n",
    "   FOREIGN KEY (guest_id)\n",
    "       REFERENCES guests (id)\n",
    ");\n",
    "'''\n",
    "\n",
    "reservations = '''\n",
    "CREATE TABLE IF NOT EXISTS reservations(\n",
    "   id serial PRIMARY KEY,\n",
    "   room_id INT NOT NULL,\n",
    "   guest_id INT NOT NULL,\n",
    "   check_in_date TIMESTAMP NOT NULL,\n",
    "   check_out_date TIMESTAMP CHECK (check_out_date > check_in_date),\n",
    "   paid BOOLEAN,\n",
    "\n",
    "   FOREIGN KEY (room_id)\n",
    "       REFERENCES rooms (id),\n",
    "   FOREIGN KEY (guest_id)\n",
    "       REFERENCES guests (id)\n",
    ");'''"
   ]
  },
  {
   "cell_type": "code",
   "execution_count": 4,
   "id": "2c21cca0",
   "metadata": {},
   "outputs": [],
   "source": [
    "for query in (hosts, guests, rooms, host_reviews, guest_reviews, reservations):\n",
    "    conn.execute(query)"
   ]
  },
  {
   "cell_type": "code",
   "execution_count": 5,
   "id": "a5f45155",
   "metadata": {},
   "outputs": [],
   "source": [
    "hosts_values = (\n",
    "    (1, 'Ann', 'ann_maiko@gmail.com'),\n",
    "    (2, 'Sergiy', '+38-096-666-22-56'),\n",
    "    (3, 'Kate',  '0667779090'))\n",
    "\n",
    "guests_values = (\n",
    "    (1, 'Lesya', 'frankol2001@gmail.com'),\n",
    "    (2, 'Viktor', 'v_a_bober@gmail.com'),\n",
    "    (3, 'Anton', 'toha_kastet@gmail.com'),\n",
    "    (4, 'Maryna Andriivna', '+380732284567'))\n",
    "\n",
    "rooms_values = (\n",
    "    (1, 1, 'country house near the mountains', 'Spend an unforgettable weekend in nature and comfort',\n",
    "        2, 900.00, 'Ukraine, Ivano-Frankivsk region, Tatariv', False),\n",
    "    (2, 2, 'Modern and quiet apartment', 'Spacious apartment for those who like to be alone',\n",
    "        1,  1297.30, 'Ukraine, Lviv',True),\n",
    "    (3, 2, 'Сozy apartment in the historic center', 'All the most interesting things within 10 minutes', \n",
    "        2, 1999.99, 'Ukraine, Lviv', True))\n",
    "\n",
    "reservations_values = (\n",
    "    (1, 2, 1, '21-01-2022', '24-01-2022', True),\n",
    "    (2, 1, 2, '09-08-2022', '13-08-2022', True),\n",
    "    (3, 2, 3, '25-11-2022', '26-11-2022', False),\n",
    "    (4, 1, 4, '20-01-2023', '23-01-2023', False),\n",
    "    (5, 2, 1, '22-01-2023', '26-01-2023', True))\n",
    "\n",
    "guest_reviews_values = (\n",
    "    (1, 'I liked it!', 9, 2, 1, '01-02-2022'), \n",
    "    (2, 'There are a lot of mosquitoes and stuffy, but the rest is fine', 7, 1, 2, '01-09-2022'), \n",
    "    (3, '.', 3, 2, 3,'11-12-2022'))\n",
    "\n",
    "host_reviews_values = (\n",
    "    (1, 'They did not leave a mess behind and paid in advance', 9, 2, 2, 1, '26-01-2022'),\n",
    "    (2, '''The terrible guest, smashed up the apartment, \n",
    "         left bottles and cigarettes behind, spat all over\n",
    "         the apartment and did not pay!!!!''', 0, 2, 2, 3, '26-11-2022'),\n",
    "    (3, 'They`re a nice young couple, but they`re too shy.', 8, 1, 1, 2,'20-08-2022'))"
   ]
  },
  {
   "cell_type": "code",
   "execution_count": 6,
   "id": "ada4ac7d",
   "metadata": {},
   "outputs": [],
   "source": [
    "def insert(table, values):\n",
    "    q = ('?, ' * len(values[0])).rstrip(', ')\n",
    "    query = f'''\n",
    "            INSERT INTO {table} VALUES ({q})\n",
    "            '''\n",
    "    for val in values:\n",
    "        conn.execute(query, val)"
   ]
  },
  {
   "cell_type": "code",
   "execution_count": 7,
   "id": "b017d04a",
   "metadata": {},
   "outputs": [],
   "source": [
    "tables = ('hosts', 'guests', 'rooms', 'host_reviews', 'guest_reviews', 'reservations')\n",
    "values = (hosts_values, \n",
    "          guests_values, \n",
    "          rooms_values, \n",
    "          host_reviews_values, \n",
    "          guest_reviews_values, \n",
    "          reservations_values)\n"
   ]
  },
  {
   "cell_type": "code",
   "execution_count": 8,
   "id": "d7c63549",
   "metadata": {},
   "outputs": [],
   "source": [
    "for t, v in zip(tables, values):\n",
    "    insert(t, v)"
   ]
  },
  {
   "cell_type": "markdown",
   "id": "a291c08c",
   "metadata": {},
   "source": [
    "for t in tables:\n",
    "    conn.execute(f'''drop table {t}\n",
    "    ''')"
   ]
  },
  {
   "cell_type": "markdown",
   "id": "889e2b41",
   "metadata": {},
   "source": [
    "1. Write SQL queries for table creation for data model that you crated for prev homework (AirBnb model),\n",
    "2. Write 3 rows (using INSERT queries) for each table in the data model,\n",
    "3. Create next analytic queries:\n",
    "        1. Find a user who had biggest amount of reservation. \n",
    "           Return user name and user_id,\n",
    "        2. (Optional) Find a host who earned biggest amount of money for the last month. \n",
    "           Return host name and host_id,\n",
    "        3. (Optional) Find a host with best average rating.\n",
    "           Return host name and host_id"
   ]
  },
  {
   "cell_type": "code",
   "execution_count": 9,
   "id": "4bd86f34",
   "metadata": {},
   "outputs": [
    {
     "data": {
      "text/plain": [
       "[(1, 'Lesya')]"
      ]
     },
     "execution_count": 9,
     "metadata": {},
     "output_type": "execute_result"
    }
   ],
   "source": [
    "query1 = '''\n",
    "WITH max_guest AS (\n",
    "SELECT guest_id, COUNT(guest_id)\n",
    "FROM reservations\n",
    "GROUP BY guest_id\n",
    "ORDER BY COUNT(guest_id) DESC\n",
    "LIMIT 1)\n",
    "\n",
    "SELECT guest_id, name\n",
    "FROM guests\n",
    "JOIN max_guest ON max_guest.guest_id = guests.id;\n",
    "'''\n",
    "\n",
    "task1 = conn.execute(query1)\n",
    "task1.fetchall()"
   ]
  },
  {
   "cell_type": "code",
   "execution_count": 13,
   "id": "024aa0c0",
   "metadata": {},
   "outputs": [
    {
     "data": {
      "text/plain": [
       "[(2, 'Sergiy')]"
      ]
     },
     "execution_count": 13,
     "metadata": {},
     "output_type": "execute_result"
    }
   ],
   "source": [
    "query2postgres = '''\n",
    "WITH room_income AS(\n",
    "SELECT EXTRACT(DAY FROM check_out_date - check_in_date) * rooms.price AS earned_money, rooms.host_id\n",
    "FROM reservations\n",
    "JOIN rooms ON rooms.id = reservations.room_id\n",
    "WHERE paid = True)\n",
    "\n",
    "SELECT id, name\n",
    "FROM (SELECT SUM(room_income.earned_money), hosts.id, hosts.name\n",
    "FROM room_income\n",
    "JOIN hosts ON hosts.id = room_income.host_id\n",
    "GROUP BY hosts.id, hosts.name\n",
    "ORDER BY SUM(earned_money) DESC\n",
    "LIMIT 1) AS max_host_income\n",
    ";\n",
    "'''\n",
    "\n",
    "query2 = '''\n",
    "WITH room_income AS(\n",
    "SELECT (check_out_date - check_in_date) * rooms.price AS earned_money, rooms.host_id\n",
    "FROM reservations\n",
    "JOIN rooms ON rooms.id = reservations.room_id\n",
    "WHERE paid = True)\n",
    "\n",
    "SELECT host_id, name\n",
    "FROM (SELECT host_id, ROUND(SUM(earned_money), 2), hosts.name\n",
    "FROM room_income\n",
    "JOIN hosts ON hosts.id = room_income.host_id\n",
    "GROUP BY host_id\n",
    "ORDER BY SUM(earned_money) DESC\n",
    "LIMIT 1)\n",
    ";\n",
    "'''\n",
    "\n",
    "task2 = conn.execute(query2)\n",
    "task2.fetchall()"
   ]
  },
  {
   "cell_type": "code",
   "execution_count": 12,
   "id": "df4c9d82",
   "metadata": {},
   "outputs": [
    {
     "data": {
      "text/plain": [
       "[(1, 'Ann')]"
      ]
     },
     "execution_count": 12,
     "metadata": {},
     "output_type": "execute_result"
    }
   ],
   "source": [
    "query3 = '''\n",
    "WITH best_host AS (\n",
    "SELECT room_id, AVG(rating) AS avg_rating, rooms.host_id\n",
    "FROM guest_reviews\n",
    "JOIN rooms ON rooms.id = guest_reviews.room_id\n",
    "GROUP BY room_id, rooms.host_id\n",
    "ORDER BY AVG(rating) DESC\n",
    "LIMIT 1)\n",
    "\n",
    "SELECT id, name\n",
    "FROM hosts\n",
    "JOIN best_host ON hosts.id = best_host.host_id\n",
    ";\n",
    "'''\n",
    "\n",
    "task3 = conn.execute(query3)\n",
    "task3.fetchall()"
   ]
  }
 ],
 "metadata": {
  "kernelspec": {
   "display_name": "Python 3 (ipykernel)",
   "language": "python",
   "name": "python3"
  },
  "language_info": {
   "codemirror_mode": {
    "name": "ipython",
    "version": 3
   },
   "file_extension": ".py",
   "mimetype": "text/x-python",
   "name": "python",
   "nbconvert_exporter": "python",
   "pygments_lexer": "ipython3",
   "version": "3.11.0"
  }
 },
 "nbformat": 4,
 "nbformat_minor": 5
}
