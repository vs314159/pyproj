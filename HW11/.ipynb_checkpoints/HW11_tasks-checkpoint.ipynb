{
 "cells": [
  {
   "cell_type": "markdown",
   "id": "e361062d",
   "metadata": {},
   "source": [
    "## Practice\n",
    "\n",
    "1. Create a program that will ask user to search a word. Search this word in Giphy (use their API). Return links to these GIFs as a result\n",
    "2. Взяти API-weather, розпарсити і вивезти погоду від користувача(вводить локацію, по цій локації повернеться погода, вологість і тд) https://openweathermap.org *Потрібна реєстрація і створення свого api-ключа\n",
    "3. Вивезти всіх космонавтів(кількість і імена) http://api.open-notify.org/astros.json"
   ]
  },
  {
   "cell_type": "code",
   "execution_count": 1,
   "id": "80989bd4",
   "metadata": {},
   "outputs": [],
   "source": [
    "import requests\n",
    "from IPython.display import IFrame"
   ]
  },
  {
   "cell_type": "code",
   "execution_count": 2,
   "id": "34d4ce33",
   "metadata": {},
   "outputs": [],
   "source": [
    "def task_1():\n",
    "    lang = input('Choose a language:\\n1 English\\n2 Українська')\n",
    "    base_url = 'https://api.giphy.com/v1/gifs/search?'\n",
    "    api_key = 'api_key=KvVy668q27FIeXRgxJ796OfaRf9BRZc2'\n",
    "    other_params = '&limit=25&offset=0&rating=g'\n",
    "    lang_dict = {'1': '&lang=en', '2': '&lang=uk'}\n",
    "    lang = lang_dict.get(lang, None)\n",
    "    match lang:\n",
    "        case '&lang=en':\n",
    "            search = input('What would you like to see? ').lower()\n",
    "            q = '&q=' + search\n",
    "            url = base_url + api_key + q + other_params + lang\n",
    "        case '&lang=uk':\n",
    "            search = input('Що хочете побачити? ').lower()\n",
    "            q = '&q=' + search\n",
    "            url = base_url + api_key + q + other_params + lang\n",
    "        case _:\n",
    "            print('I don`t know that language')\n",
    "            return None\n",
    "    resp = requests.get(url)\n",
    "    match resp.status_code:\n",
    "        case 200:\n",
    "            data = resp.json()[\"data\"]\n",
    "            for gif in data:\n",
    "                display(IFrame(src=gif[\"embed_url\"], width=600, height=550))\n",
    "            if not data:\n",
    "                print(('No gifs found', 'Гіфки не знайдені')[lang == '&lang=uk'])\n",
    "        case _:\n",
    "            print(('Something went wrong, try again later.',\n",
    "                   'Щось пішло не так, спробуйте пізніше.')[lang == '&lang=uk'])"
   ]
  },
  {
   "cell_type": "code",
   "execution_count": 8,
   "id": "f233ec3d",
   "metadata": {
    "scrolled": true
   },
   "outputs": [
    {
     "name": "stdout",
     "output_type": "stream",
     "text": [
      "Choose a language:\n",
      "1 English\n",
      "2 Українська2\n",
      "Що хочете побачити? коти\n"
     ]
    },
    {
     "data": {
      "text/html": [
       "\n",
       "        <iframe\n",
       "            width=\"600\"\n",
       "            height=\"550\"\n",
       "            src=\"https://giphy.com/embed/KztT2c4u8mYYUiMKdJ\"\n",
       "            frameborder=\"0\"\n",
       "            allowfullscreen\n",
       "            \n",
       "        ></iframe>\n",
       "        "
      ],
      "text/plain": [
       "<IPython.lib.display.IFrame at 0x23032fe0a10>"
      ]
     },
     "metadata": {},
     "output_type": "display_data"
    },
    {
     "data": {
      "text/html": [
       "\n",
       "        <iframe\n",
       "            width=\"600\"\n",
       "            height=\"550\"\n",
       "            src=\"https://giphy.com/embed/8TIbelFjFXjIJ0Zg1l\"\n",
       "            frameborder=\"0\"\n",
       "            allowfullscreen\n",
       "            \n",
       "        ></iframe>\n",
       "        "
      ],
      "text/plain": [
       "<IPython.lib.display.IFrame at 0x23032fe0a10>"
      ]
     },
     "metadata": {},
     "output_type": "display_data"
    },
    {
     "data": {
      "text/html": [
       "\n",
       "        <iframe\n",
       "            width=\"600\"\n",
       "            height=\"550\"\n",
       "            src=\"https://giphy.com/embed/Q6WPVzFU8LcBWWgQE1\"\n",
       "            frameborder=\"0\"\n",
       "            allowfullscreen\n",
       "            \n",
       "        ></iframe>\n",
       "        "
      ],
      "text/plain": [
       "<IPython.lib.display.IFrame at 0x23032fe0a10>"
      ]
     },
     "metadata": {},
     "output_type": "display_data"
    },
    {
     "data": {
      "text/html": [
       "\n",
       "        <iframe\n",
       "            width=\"600\"\n",
       "            height=\"550\"\n",
       "            src=\"https://giphy.com/embed/l41m3pCCdMLTNky4M\"\n",
       "            frameborder=\"0\"\n",
       "            allowfullscreen\n",
       "            \n",
       "        ></iframe>\n",
       "        "
      ],
      "text/plain": [
       "<IPython.lib.display.IFrame at 0x23032fe0a10>"
      ]
     },
     "metadata": {},
     "output_type": "display_data"
    },
    {
     "data": {
      "text/html": [
       "\n",
       "        <iframe\n",
       "            width=\"600\"\n",
       "            height=\"550\"\n",
       "            src=\"https://giphy.com/embed/GeimqsH0TLDt4tScGw\"\n",
       "            frameborder=\"0\"\n",
       "            allowfullscreen\n",
       "            \n",
       "        ></iframe>\n",
       "        "
      ],
      "text/plain": [
       "<IPython.lib.display.IFrame at 0x23032fe0a10>"
      ]
     },
     "metadata": {},
     "output_type": "display_data"
    },
    {
     "data": {
      "text/html": [
       "\n",
       "        <iframe\n",
       "            width=\"600\"\n",
       "            height=\"550\"\n",
       "            src=\"https://giphy.com/embed/aPUWAwLKpbcKIiIlop\"\n",
       "            frameborder=\"0\"\n",
       "            allowfullscreen\n",
       "            \n",
       "        ></iframe>\n",
       "        "
      ],
      "text/plain": [
       "<IPython.lib.display.IFrame at 0x23032fe0a10>"
      ]
     },
     "metadata": {},
     "output_type": "display_data"
    },
    {
     "data": {
      "text/html": [
       "\n",
       "        <iframe\n",
       "            width=\"600\"\n",
       "            height=\"550\"\n",
       "            src=\"https://giphy.com/embed/bL06glx9TZlYQ1WNXs\"\n",
       "            frameborder=\"0\"\n",
       "            allowfullscreen\n",
       "            \n",
       "        ></iframe>\n",
       "        "
      ],
      "text/plain": [
       "<IPython.lib.display.IFrame at 0x23032fe0a10>"
      ]
     },
     "metadata": {},
     "output_type": "display_data"
    },
    {
     "data": {
      "text/html": [
       "\n",
       "        <iframe\n",
       "            width=\"600\"\n",
       "            height=\"550\"\n",
       "            src=\"https://giphy.com/embed/zfWm38AUbyEBjwPkvV\"\n",
       "            frameborder=\"0\"\n",
       "            allowfullscreen\n",
       "            \n",
       "        ></iframe>\n",
       "        "
      ],
      "text/plain": [
       "<IPython.lib.display.IFrame at 0x23032fe0a10>"
      ]
     },
     "metadata": {},
     "output_type": "display_data"
    },
    {
     "data": {
      "text/html": [
       "\n",
       "        <iframe\n",
       "            width=\"600\"\n",
       "            height=\"550\"\n",
       "            src=\"https://giphy.com/embed/w5eFyOHmkS8uc\"\n",
       "            frameborder=\"0\"\n",
       "            allowfullscreen\n",
       "            \n",
       "        ></iframe>\n",
       "        "
      ],
      "text/plain": [
       "<IPython.lib.display.IFrame at 0x23032f9b150>"
      ]
     },
     "metadata": {},
     "output_type": "display_data"
    },
    {
     "data": {
      "text/html": [
       "\n",
       "        <iframe\n",
       "            width=\"600\"\n",
       "            height=\"550\"\n",
       "            src=\"https://giphy.com/embed/XYDhbbeXuvyDayem9J\"\n",
       "            frameborder=\"0\"\n",
       "            allowfullscreen\n",
       "            \n",
       "        ></iframe>\n",
       "        "
      ],
      "text/plain": [
       "<IPython.lib.display.IFrame at 0x230331b5650>"
      ]
     },
     "metadata": {},
     "output_type": "display_data"
    },
    {
     "data": {
      "text/html": [
       "\n",
       "        <iframe\n",
       "            width=\"600\"\n",
       "            height=\"550\"\n",
       "            src=\"https://giphy.com/embed/NSuVmk7HezUYwLU5Ir\"\n",
       "            frameborder=\"0\"\n",
       "            allowfullscreen\n",
       "            \n",
       "        ></iframe>\n",
       "        "
      ],
      "text/plain": [
       "<IPython.lib.display.IFrame at 0x230331b5650>"
      ]
     },
     "metadata": {},
     "output_type": "display_data"
    },
    {
     "data": {
      "text/html": [
       "\n",
       "        <iframe\n",
       "            width=\"600\"\n",
       "            height=\"550\"\n",
       "            src=\"https://giphy.com/embed/EwJhj7uNPdCngnvt14\"\n",
       "            frameborder=\"0\"\n",
       "            allowfullscreen\n",
       "            \n",
       "        ></iframe>\n",
       "        "
      ],
      "text/plain": [
       "<IPython.lib.display.IFrame at 0x23031a6ec50>"
      ]
     },
     "metadata": {},
     "output_type": "display_data"
    },
    {
     "data": {
      "text/html": [
       "\n",
       "        <iframe\n",
       "            width=\"600\"\n",
       "            height=\"550\"\n",
       "            src=\"https://giphy.com/embed/cfuL5gqFDreXxkWQ4o\"\n",
       "            frameborder=\"0\"\n",
       "            allowfullscreen\n",
       "            \n",
       "        ></iframe>\n",
       "        "
      ],
      "text/plain": [
       "<IPython.lib.display.IFrame at 0x23031a6ec50>"
      ]
     },
     "metadata": {},
     "output_type": "display_data"
    },
    {
     "data": {
      "text/html": [
       "\n",
       "        <iframe\n",
       "            width=\"600\"\n",
       "            height=\"550\"\n",
       "            src=\"https://giphy.com/embed/naAaDvbAoOYdW\"\n",
       "            frameborder=\"0\"\n",
       "            allowfullscreen\n",
       "            \n",
       "        ></iframe>\n",
       "        "
      ],
      "text/plain": [
       "<IPython.lib.display.IFrame at 0x23032fdcbd0>"
      ]
     },
     "metadata": {},
     "output_type": "display_data"
    },
    {
     "data": {
      "text/html": [
       "\n",
       "        <iframe\n",
       "            width=\"600\"\n",
       "            height=\"550\"\n",
       "            src=\"https://giphy.com/embed/EqfXZ7EJBWwLrHGakq\"\n",
       "            frameborder=\"0\"\n",
       "            allowfullscreen\n",
       "            \n",
       "        ></iframe>\n",
       "        "
      ],
      "text/plain": [
       "<IPython.lib.display.IFrame at 0x23032fdcbd0>"
      ]
     },
     "metadata": {},
     "output_type": "display_data"
    },
    {
     "data": {
      "text/html": [
       "\n",
       "        <iframe\n",
       "            width=\"600\"\n",
       "            height=\"550\"\n",
       "            src=\"https://giphy.com/embed/Gxkl6SteqEiGackRxd\"\n",
       "            frameborder=\"0\"\n",
       "            allowfullscreen\n",
       "            \n",
       "        ></iframe>\n",
       "        "
      ],
      "text/plain": [
       "<IPython.lib.display.IFrame at 0x2302d9e70d0>"
      ]
     },
     "metadata": {},
     "output_type": "display_data"
    },
    {
     "data": {
      "text/html": [
       "\n",
       "        <iframe\n",
       "            width=\"600\"\n",
       "            height=\"550\"\n",
       "            src=\"https://giphy.com/embed/3o72EX5QZ9N9d51dqo\"\n",
       "            frameborder=\"0\"\n",
       "            allowfullscreen\n",
       "            \n",
       "        ></iframe>\n",
       "        "
      ],
      "text/plain": [
       "<IPython.lib.display.IFrame at 0x2302d9e70d0>"
      ]
     },
     "metadata": {},
     "output_type": "display_data"
    },
    {
     "data": {
      "text/html": [
       "\n",
       "        <iframe\n",
       "            width=\"600\"\n",
       "            height=\"550\"\n",
       "            src=\"https://giphy.com/embed/W3QKEujo8vztC\"\n",
       "            frameborder=\"0\"\n",
       "            allowfullscreen\n",
       "            \n",
       "        ></iframe>\n",
       "        "
      ],
      "text/plain": [
       "<IPython.lib.display.IFrame at 0x2302d9e70d0>"
      ]
     },
     "metadata": {},
     "output_type": "display_data"
    },
    {
     "data": {
      "text/html": [
       "\n",
       "        <iframe\n",
       "            width=\"600\"\n",
       "            height=\"550\"\n",
       "            src=\"https://giphy.com/embed/JOPNEVXmCM7thaE276\"\n",
       "            frameborder=\"0\"\n",
       "            allowfullscreen\n",
       "            \n",
       "        ></iframe>\n",
       "        "
      ],
      "text/plain": [
       "<IPython.lib.display.IFrame at 0x2302d9e70d0>"
      ]
     },
     "metadata": {},
     "output_type": "display_data"
    },
    {
     "data": {
      "text/html": [
       "\n",
       "        <iframe\n",
       "            width=\"600\"\n",
       "            height=\"550\"\n",
       "            src=\"https://giphy.com/embed/YRtLgsajXrz1FNJ6oy\"\n",
       "            frameborder=\"0\"\n",
       "            allowfullscreen\n",
       "            \n",
       "        ></iframe>\n",
       "        "
      ],
      "text/plain": [
       "<IPython.lib.display.IFrame at 0x2302d9e70d0>"
      ]
     },
     "metadata": {},
     "output_type": "display_data"
    },
    {
     "data": {
      "text/html": [
       "\n",
       "        <iframe\n",
       "            width=\"600\"\n",
       "            height=\"550\"\n",
       "            src=\"https://giphy.com/embed/sjVsQih0n1NPQkLQaG\"\n",
       "            frameborder=\"0\"\n",
       "            allowfullscreen\n",
       "            \n",
       "        ></iframe>\n",
       "        "
      ],
      "text/plain": [
       "<IPython.lib.display.IFrame at 0x23032fe0a10>"
      ]
     },
     "metadata": {},
     "output_type": "display_data"
    },
    {
     "data": {
      "text/html": [
       "\n",
       "        <iframe\n",
       "            width=\"600\"\n",
       "            height=\"550\"\n",
       "            src=\"https://giphy.com/embed/dIVa0pwco4Mj5rQ7gy\"\n",
       "            frameborder=\"0\"\n",
       "            allowfullscreen\n",
       "            \n",
       "        ></iframe>\n",
       "        "
      ],
      "text/plain": [
       "<IPython.lib.display.IFrame at 0x23032fe0a10>"
      ]
     },
     "metadata": {},
     "output_type": "display_data"
    },
    {
     "data": {
      "text/html": [
       "\n",
       "        <iframe\n",
       "            width=\"600\"\n",
       "            height=\"550\"\n",
       "            src=\"https://giphy.com/embed/9gISqB3tncMmY\"\n",
       "            frameborder=\"0\"\n",
       "            allowfullscreen\n",
       "            \n",
       "        ></iframe>\n",
       "        "
      ],
      "text/plain": [
       "<IPython.lib.display.IFrame at 0x23032fe0a10>"
      ]
     },
     "metadata": {},
     "output_type": "display_data"
    },
    {
     "data": {
      "text/html": [
       "\n",
       "        <iframe\n",
       "            width=\"600\"\n",
       "            height=\"550\"\n",
       "            src=\"https://giphy.com/embed/B0s4jnXZFKFkhmRuwt\"\n",
       "            frameborder=\"0\"\n",
       "            allowfullscreen\n",
       "            \n",
       "        ></iframe>\n",
       "        "
      ],
      "text/plain": [
       "<IPython.lib.display.IFrame at 0x23032fe0a10>"
      ]
     },
     "metadata": {},
     "output_type": "display_data"
    },
    {
     "data": {
      "text/html": [
       "\n",
       "        <iframe\n",
       "            width=\"600\"\n",
       "            height=\"550\"\n",
       "            src=\"https://giphy.com/embed/gl8ymnpv4Sqha\"\n",
       "            frameborder=\"0\"\n",
       "            allowfullscreen\n",
       "            \n",
       "        ></iframe>\n",
       "        "
      ],
      "text/plain": [
       "<IPython.lib.display.IFrame at 0x23032fe0a10>"
      ]
     },
     "metadata": {},
     "output_type": "display_data"
    }
   ],
   "source": [
    "task_1()"
   ]
  },
  {
   "cell_type": "code",
   "execution_count": 4,
   "id": "2be7ac97",
   "metadata": {},
   "outputs": [],
   "source": [
    "def coordinates(city, api_key):\n",
    "    base_url = 'http://api.openweathermap.org/geo/1.0/direct?'\n",
    "    search = 'q=' + city\n",
    "    other_params = '&limit=1'\n",
    "    url = base_url + search + other_params + api_key\n",
    "    resp = requests.get(url)\n",
    "    match resp.status_code:\n",
    "        case 200:\n",
    "            data = resp.json()[0]\n",
    "            return data['lat'], data['lon']\n",
    "        case _:\n",
    "            print('Щось пішло не так')\n",
    "\n",
    "\n",
    "def task_2():\n",
    "    api_key = '&appid=cfe4341488b27475f4836537119fc18a'\n",
    "    base_url = 'https://api.openweathermap.org/data/2.5/weather?'\n",
    "    lat = '&lat='\n",
    "    lon = '&lon='\n",
    "    lang = '&lang=uk'\n",
    "    units = '&units=metric'\n",
    "    city = input('Яке місто цікавить? ').capitalize()\n",
    "    geo = coordinates(city, api_key)\n",
    "    if not geo:\n",
    "        return None\n",
    "    lat_, lon_ = geo\n",
    "    lat += str(lat_)\n",
    "    lon += str(lon_)\n",
    "    url = base_url + lat + lon + units + lang + api_key\n",
    "    resp = requests.get(url)\n",
    "    match resp.status_code:\n",
    "        case 200:\n",
    "            data = resp.json()\n",
    "            print(f\"Погода: {data['weather'][0]['description']}\")\n",
    "            print(f\"Температура: {data['main']['temp']} °C, \"\n",
    "                  f\"відчувається, як {data['main']['feels_like']} °C\")\n",
    "        case _:\n",
    "            print('Щось пішло не так')"
   ]
  },
  {
   "cell_type": "code",
   "execution_count": 5,
   "id": "9b204615",
   "metadata": {},
   "outputs": [
    {
     "name": "stdout",
     "output_type": "stream",
     "text": [
      "Яке місто цікавить? Тернопіль\n",
      "Погода: хмарно\n",
      "Температура: -2.42 °C, відчувається, як -8.21 °C\n"
     ]
    }
   ],
   "source": [
    "task_2()"
   ]
  },
  {
   "cell_type": "code",
   "execution_count": 6,
   "id": "b6f2e93a",
   "metadata": {},
   "outputs": [],
   "source": [
    "def task_3():\n",
    "    print('Хто зараз в космосі?')\n",
    "    url = 'http://api.open-notify.org/astros.json'\n",
    "    resp = requests.get(url)\n",
    "    match resp.status_code:\n",
    "        case 200:\n",
    "            data = resp.json()\n",
    "            for name in data['people']:\n",
    "                print(name['name'])\n",
    "            print(f'Всього {data[\"number\"]} людей')\n",
    "        case _:\n",
    "            print('Щось пішло не так, спробуйте пізніше.')"
   ]
  },
  {
   "cell_type": "code",
   "execution_count": 7,
   "id": "0c2e6b33",
   "metadata": {},
   "outputs": [
    {
     "name": "stdout",
     "output_type": "stream",
     "text": [
      "Хто зараз в космосі?\n",
      "Sergey Prokopyev\n",
      "Dmitry Petelin\n",
      "Frank Rubio\n",
      "Nicole Mann\n",
      "Josh Cassada\n",
      "Koichi Wakata\n",
      "Anna Kikina\n",
      "Fei Junlong\n",
      "Deng Qingming\n",
      "Zhang Lu\n",
      "Всього 10 людей\n"
     ]
    }
   ],
   "source": [
    "task_3()"
   ]
  }
 ],
 "metadata": {
  "kernelspec": {
   "display_name": "Python 3 (ipykernel)",
   "language": "python",
   "name": "python3"
  },
  "language_info": {
   "codemirror_mode": {
    "name": "ipython",
    "version": 3
   },
   "file_extension": ".py",
   "mimetype": "text/x-python",
   "name": "python",
   "nbconvert_exporter": "python",
   "pygments_lexer": "ipython3",
   "version": "3.11.0"
  }
 },
 "nbformat": 4,
 "nbformat_minor": 5
}
