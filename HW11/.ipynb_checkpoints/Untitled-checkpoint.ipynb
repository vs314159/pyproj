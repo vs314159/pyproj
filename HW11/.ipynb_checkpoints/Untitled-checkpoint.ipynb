{
 "cells": [
  {
   "cell_type": "markdown",
   "id": "e361062d",
   "metadata": {},
   "source": [
    "## Practice\n",
    "\n",
    "1. Create a program that will ask user to search a word. Search this word in Giphy (use their API). Return links to these GIFs as a result\n",
    "2. Взяти API-weather, розпарсити і вивезти погоду від користувача(вводить локацію, по цій локації повернеться погода, вологість і тд) https://openweathermap.org *Потрібна реєстрація і створення свого api-ключа\n",
    "3. Вивезти всіх космонавтів(кількість і імена) http://api.open-notify.org/astros.json"
   ]
  },
  {
   "cell_type": "code",
   "execution_count": null,
   "id": "80989bd4",
   "metadata": {},
   "outputs": [],
   "source": [
    "import requests\n",
    "from IPython.display import IFrame"
   ]
  },
  {
   "cell_type": "code",
   "execution_count": null,
   "id": "34d4ce33",
   "metadata": {},
   "outputs": [],
   "source": [
    "def task_1():\n",
    "    lang = input('Choose a language:\\n1 English\\n2 Українська')\n",
    "    base_url = 'https://api.giphy.com/v1/gifs/search?'\n",
    "    api_key='api_key=KvVy668q27FIeXRgxJ796OfaRf9BRZc2'\n",
    "    other_params = '&limit=25&offset=0&rating=g'\n",
    "    lang_dict = {'1': '&lang=en', '2': '&lang=uk'}\n",
    "    lang = lang_dict.get(lang, None)\n",
    "    match lang:\n",
    "        case '&lang=en':\n",
    "            search = input('What would you like to see? ').lower()\n",
    "            q = '&q=' + search\n",
    "            url = base_url + api_key + q + other_params + lang\n",
    "        case '&lang=uk':\n",
    "            search = input('Що хочете побачити? ').lower()\n",
    "            q = '&q=' + search\n",
    "            url = base_url + api_key + q + other_params + lang\n",
    "        case _:\n",
    "            print('I don`t know that language')\n",
    "            return None\n",
    "    resp = requests.get(url)\n",
    "    match resp.status_code:\n",
    "        case 200:\n",
    "            data = resp.json()[\"data\"]\n",
    "            for gif in data:\n",
    "                display(IFrame(src=gif[\"embed_url\"], width=600, height=550))\n",
    "                #print(gif[\"embed_url\"])\n",
    "            if not data:\n",
    "                print(('No gifs found', 'Гіфки не знайдені')[lang=='&lang=uk'])\n",
    "        case _:\n",
    "            print(('Something went wrong, try again later.', 'Щось пішло не так, спробуйте пізніше.')[lang=='&lang=uk'])\n",
    "            \n",
    "            "
   ]
  },
  {
   "cell_type": "code",
   "execution_count": null,
   "id": "f233ec3d",
   "metadata": {
    "scrolled": true
   },
   "outputs": [],
   "source": [
    "task_1()"
   ]
  },
  {
   "cell_type": "code",
   "execution_count": null,
   "id": "2be7ac97",
   "metadata": {},
   "outputs": [],
   "source": [
    "def coordinates(city, api_key):\n",
    "    base_url = 'http://api.openweathermap.org/geo/1.0/direct?'\n",
    "    search = 'q=' + city\n",
    "    other_params = '&limit=1'\n",
    "    url = base_url + search + other_params + api_key\n",
    "    resp = requests.get(url)\n",
    "    match resp.status_code:\n",
    "        case 200:\n",
    "            data = resp.json()[0]\n",
    "            return data['lat'], data['lon']\n",
    "        case _:\n",
    "            print('Щось пішло не так')\n",
    "\n",
    "\n",
    "def task_2():\n",
    "    api_key = '&appid=cfe4341488b27475f4836537119fc18a'\n",
    "    base_url = 'https://api.openweathermap.org/data/2.5/weather?'\n",
    "    lat = '&lat='\n",
    "    lon = '&lon='\n",
    "    lang = '&lang=uk'\n",
    "    units = '&units=metric'\n",
    "    city = input('Яке місто цікавить? ').capitalize()\n",
    "    geo = coordinates(city, api_key)\n",
    "    if not geo:\n",
    "        return None\n",
    "    lat_, lon_ = geo\n",
    "    lat += str(lat_)\n",
    "    lon += str(lon_)\n",
    "    url = base_url + lat + lon + units + lang + api_key\n",
    "    resp = requests.get(url)\n",
    "    match resp.status_code:\n",
    "        case 200:\n",
    "            data = resp.json()\n",
    "            print(f\"Погода: {data['weather'][0]['description']}\")\n",
    "            print(f\"Температура: {data['main']['temp']} °C, \"\n",
    "                  f\"відчувається, як {data['main']['feels_like']} °C\")\n",
    "        case _:\n",
    "            print('Щось пішло не так')"
   ]
  },
  {
   "cell_type": "code",
   "execution_count": null,
   "id": "9b204615",
   "metadata": {},
   "outputs": [],
   "source": [
    "task_2()"
   ]
  },
  {
   "cell_type": "code",
   "execution_count": null,
   "id": "b6f2e93a",
   "metadata": {},
   "outputs": [],
   "source": [
    "def task_3():\n",
    "    print('Хто зараз в космосі?')\n",
    "    url = 'http://api.open-notify.org/astros.json'\n",
    "    resp = requests.get(url)\n",
    "    match resp.status_code:\n",
    "        case 200:\n",
    "            data = resp.json()\n",
    "            for name in data['people']:\n",
    "                print(name['name'])\n",
    "            print(f'Всього {data[\"number\"]} людей')\n",
    "        case _:\n",
    "            print('Щось пішло не так, спробуйте пізніше.')"
   ]
  },
  {
   "cell_type": "code",
   "execution_count": null,
   "id": "0c2e6b33",
   "metadata": {},
   "outputs": [],
   "source": [
    "task_3()"
   ]
  }
 ],
 "metadata": {
  "kernelspec": {
   "display_name": "Python 3 (ipykernel)",
   "language": "python",
   "name": "python3"
  },
  "language_info": {
   "codemirror_mode": {
    "name": "ipython",
    "version": 3
   },
   "file_extension": ".py",
   "mimetype": "text/x-python",
   "name": "python",
   "nbconvert_exporter": "python",
   "pygments_lexer": "ipython3",
   "version": "3.11.0"
  }
 },
 "nbformat": 4,
 "nbformat_minor": 5
}
