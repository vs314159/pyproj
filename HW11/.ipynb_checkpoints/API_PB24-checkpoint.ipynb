{
 "cells": [
  {
   "cell_type": "markdown",
   "id": "84dcc798",
   "metadata": {},
   "source": [
    "### API ПриватБанк ver 0.0.1"
   ]
  },
  {
   "cell_type": "code",
   "execution_count": 1,
   "id": "4c5e6974",
   "metadata": {},
   "outputs": [],
   "source": [
    "import requests\n",
    "from datetime import datetime\n",
    "from pandas import date_range\n",
    "from string import punctuation"
   ]
  },
  {
   "cell_type": "code",
   "execution_count": 2,
   "id": "b643532f",
   "metadata": {},
   "outputs": [],
   "source": [
    "def remove_puctuation(x):\n",
    "    return x.translate(str.maketrans('', '', punctuation))\n",
    "\n",
    "\n",
    "def input_and_check(inp_mess,\n",
    "                    options,\n",
    "                    err_mess='Некоректний ввід',\n",
    "                    date=False):\n",
    "    inp = input(inp_mess).upper().split()\n",
    "    if not date:\n",
    "        inp = tuple(map(remove_puctuation, inp))\n",
    "    if set(inp) < options and inp:\n",
    "        return inp\n",
    "    else:\n",
    "        print(err_mess)\n",
    "        again = input('Спробуєте ще раз? ')\n",
    "        if again.lower() == 'так':\n",
    "            return input_and_check(inp_mess, options, err_mess, date)"
   ]
  },
  {
   "cell_type": "code",
   "execution_count": 3,
   "id": "375ee575",
   "metadata": {},
   "outputs": [],
   "source": [
    "def say_hello():\n",
    "    print('Вітаю! Мене звати Аполінарія Валютченко. Що я можу:',\n",
    "          '1. Повідомити поточні готівкові і безготівкові курси кількох валют ПриватБанку',\n",
    "          '2. Повідомити готівкові курси кількох валют НБУ за минулі дні, починаючи з 03.11.2014',\n",
    "          sep='\\n')\n",
    "    task = input_and_check(inp_mess='Оберіть, який пункт Вас цікавить (1 або 2): ',\n",
    "                           options={'1', '2'},\n",
    "                           err_mess='Немає такого пункту')\n",
    "    return task[0]"
   ]
  },
  {
   "cell_type": "code",
   "execution_count": 4,
   "id": "992f7aad",
   "metadata": {},
   "outputs": [],
   "source": [
    "def responce(url, dict_keys, nested=False):\n",
    "    resp = requests.get(url)\n",
    "    match resp.status_code:\n",
    "        case 200:\n",
    "            print('Дані отримані')\n",
    "            data = resp.json()\n",
    "            if nested:\n",
    "                data = data[dict_keys['nested']]\n",
    "            currencies = set(map(lambda x: x[dict_keys['curr']], data))\n",
    "            print(f'Доступні валюти: {currencies}')\n",
    "            curr = input_and_check(inp_mess='Оберіть валюту/валюти з доступних, або всі (введіть \"всі\"): ',\n",
    "                                   options=currencies | {\"ВСІ\"})\n",
    "            if curr == (\"ВСІ\",):\n",
    "                curr_data = data\n",
    "            else:\n",
    "                curr_data = tuple(filter(lambda x: x[dict_keys['curr']] in curr, data))\n",
    "            for obj in curr_data:\n",
    "                print(f'Продаж: 1 {obj[dict_keys[\"curr\"]]} = {obj[dict_keys[\"buy\"]]} {obj[dict_keys[\"base_curr\"]]}',\n",
    "                      f'Купівля: 1 {obj[dict_keys[\"curr\"]]} = {obj[dict_keys[\"sale\"]]} {obj[dict_keys[\"base_curr\"]]}',\n",
    "                      sep='\\n')\n",
    "        case 404:\n",
    "            print('Покликання неправильне, спробуйте інше')\n",
    "        case _:\n",
    "            print('Щось пішло не так, спробуйте пізніше')"
   ]
  },
  {
   "cell_type": "code",
   "execution_count": 5,
   "id": "c3ac4539",
   "metadata": {},
   "outputs": [],
   "source": [
    "def task_1():\n",
    "    url_cash = 'https://api.privatbank.ua/p24api/pubinfo?json&exchange&coursid=5'\n",
    "    url_noncash = 'https://api.privatbank.ua/p24api/pubinfo?exchange&json&coursid=11'\n",
    "    url_dict = {'1': url_cash, '2': url_noncash}\n",
    "    dict_keys = {'curr': 'ccy', 'base_curr': 'base_ccy', 'buy': 'buy', 'sale': 'sale'}\n",
    "    option = input_and_check(inp_mess='Вас цікавить готівковий (1) чи безготівковий курс (2)?: ',\n",
    "                             options={'1', '2'})[0]\n",
    "    if option is None:\n",
    "        return None\n",
    "    url = url_dict[option]\n",
    "    responce(url, dict_keys)"
   ]
  },
  {
   "cell_type": "code",
   "execution_count": 6,
   "id": "75083110",
   "metadata": {},
   "outputs": [],
   "source": [
    "def task_2():\n",
    "    url = 'https://api.privatbank.ua/p24api/exchange_rates?date='\n",
    "    dict_keys = {'curr': \"currency\", 'base_curr': \"baseCurrency\",\n",
    "                 'buy': \"purchaseRateNB\", 'sale': \"saleRateNB\",\n",
    "                 'nested': \"exchangeRate\"}\n",
    "    start = '03.11.2014'\n",
    "    end = datetime.today().date()\n",
    "    val_dates = date_range(start, end, inclusive='left').strftime('%d.%m.%Y')\n",
    "    date = input_and_check(inp_mess='Введіть дату у форматі \"дд.мм.рррр\": ',\n",
    "                           options=set(val_dates),\n",
    "                           err_mess='Така дата недоступна, або неправильний формат',\n",
    "                           date=True)\n",
    "    # на жаль всі дати не можна розглянути, видає помилку 500,\n",
    "    # тому розглядаємо лише першу в списку\n",
    "    if date:\n",
    "        print(date[0])\n",
    "        url += date[0]\n",
    "        responce(url, dict_keys, nested=True)"
   ]
  },
  {
   "cell_type": "code",
   "execution_count": 7,
   "id": "2a9706f7",
   "metadata": {},
   "outputs": [],
   "source": [
    "def pb24():\n",
    "    task = say_hello()\n",
    "    dict_task = {'1': task_1, '2': task_2}\n",
    "    dict_task[task]()"
   ]
  },
  {
   "cell_type": "code",
   "execution_count": 8,
   "id": "477ecca3",
   "metadata": {},
   "outputs": [
    {
     "name": "stdout",
     "output_type": "stream",
     "text": [
      "Вітаю! Мене звати Аполінарія Валютченко. Що я можу:\n",
      "1. Повідомити поточні готівкові і безготівкові курси кількох валют ПриватБанку\n",
      "2. Повідомити готівкові курси кількох валют НБУ за минулі дні, починаючи з 03.11.2014\n",
      "Оберіть, який пункт Вас цікавить (1 або 2): 1\n",
      "Вас цікавить готівковий (1) чи безготівковий курс (2)?: 1\n",
      "Дані отримані\n",
      "Доступні валюти: {'USD', 'EUR'}\n",
      "Оберіть валюту/валюти з доступних, або всі (введіть \"всі\"): всі\n",
      "Продаж: 1 EUR = 40.75000 UAH\n",
      "Купівля: 1 EUR = 41.75000 UAH\n",
      "Продаж: 1 USD = 39.30000 UAH\n",
      "Купівля: 1 USD = 39.80000 UAH\n"
     ]
    }
   ],
   "source": [
    "pb24()"
   ]
  },
  {
   "cell_type": "code",
   "execution_count": null,
   "id": "43c4ece9",
   "metadata": {},
   "outputs": [],
   "source": []
  }
 ],
 "metadata": {
  "kernelspec": {
   "display_name": "Python 3 (ipykernel)",
   "language": "python",
   "name": "python3"
  },
  "language_info": {
   "codemirror_mode": {
    "name": "ipython",
    "version": 3
   },
   "file_extension": ".py",
   "mimetype": "text/x-python",
   "name": "python",
   "nbconvert_exporter": "python",
   "pygments_lexer": "ipython3",
   "version": "3.11.0"
  }
 },
 "nbformat": 4,
 "nbformat_minor": 5
}
