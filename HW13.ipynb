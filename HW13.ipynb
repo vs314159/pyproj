{
 "cells": [
  {
   "cell_type": "markdown",
   "id": "f6abd595",
   "metadata": {},
   "source": [
    "## Practice"
   ]
  },
  {
   "cell_type": "markdown",
   "id": "bfadca39",
   "metadata": {},
   "source": [
    "1. Create a decorator that will check types. It should take a function with arguments and validate inputs with annotations.\n",
    "\n",
    "Example:\n",
    "\n",
    "    @check_types\n",
    "    def add(a: int, b: int) -> int:\n",
    "        return a + b\n",
    "\n",
    "    add(1, 2)\n",
    "    > 3\n",
    "\n",
    "    add(1, \"2\")\n",
    "    > TypeError: Argument b must be int, not str"
   ]
  },
  {
   "cell_type": "code",
   "execution_count": 483,
   "id": "83874b8c",
   "metadata": {},
   "outputs": [],
   "source": [
    "'''\n",
    "функція перевіряє на рівність таких типів, \n",
    "як list[int], tuple[tuple[str]], dict[str, int]\n",
    "Щось на зразок list[int, str, float] не передбачається\n",
    "'''\n",
    "def check_generic_type(tp, obj):\n",
    "    if tp.__origin__ == type(obj):\n",
    "        dt = tp.__args__  # data types\n",
    "        if type(obj) == dict:\n",
    "            # змінні суто для читабельності\n",
    "            keys = all(type(a) == dt[0] for a in obj.keys())\n",
    "            vals = all(type(a) == dt[1] for a in obj.values())\n",
    "            return keys and vals\n",
    "        elif type(dt[0]) == type:\n",
    "            return all(type(a) == dt[0] for a in obj)\n",
    "        else:\n",
    "            return all(check_generic_type(dt[0], a) for a in obj)\n",
    "    else:\n",
    "        return False\n",
    "\n",
    "\n",
    "def check_inv_arg(arg, ann_type, name):\n",
    "    msg = 'TypeError: Argument {arg} must be {ann_type}, not {act_type}'\n",
    "    if type(ann_type) == type:\n",
    "        if ann_type != type(arg):\n",
    "            return msg.format(arg=name, ann_type=ann_type, act_type=type(arg))\n",
    "    else:\n",
    "        is_ok = check_generic_type(ann_type, arg)\n",
    "        if not is_ok:\n",
    "            return msg.format(arg=name, ann_type=ann_type, act_type=type(arg))\n",
    "\n",
    "\n",
    "def check_types(func):\n",
    "    def wrapper(*args, **kwargs):\n",
    "        type_info = func.__annotations__\n",
    "        # functions with *args, **kwargs\n",
    "        try:\n",
    "            func(*args, **kwargs, test=42)  # тест на *args, **kwargs у самі функції\n",
    "            # тип для args і kwargs, в анотації вказується один на всіх\n",
    "            ann_type = [i for i in type_info.values()]\n",
    "            for arg in args:\n",
    "                msg = check_inv_arg(arg, ann_type[0], arg)\n",
    "                if msg:\n",
    "                    print(msg)\n",
    "                    return None\n",
    "            for name, arg in kwargs.items():\n",
    "                msg = check_inv_arg(arg, ann_type[1], name)\n",
    "                if msg:\n",
    "                    print(msg)\n",
    "                    return None\n",
    "        except:  # тут всі інші функції, без *args, **kwargs\n",
    "            for arg, (name, ann_type) in zip(args, type_info.items()):\n",
    "                msg = check_inv_arg(arg, ann_type, name)\n",
    "                if msg:\n",
    "                    print(msg)\n",
    "                    return None\n",
    "        return func(*args, **kwargs)\n",
    "    return wrapper"
   ]
  },
  {
   "cell_type": "code",
   "execution_count": 493,
   "id": "1b6b4daa",
   "metadata": {},
   "outputs": [],
   "source": [
    "@check_types\n",
    "def add(a: int, b: int) -> int:\n",
    "    return a + b\n",
    "\n",
    "\n",
    "@check_types\n",
    "def compute_difference(first: list[int], second: list[int]) -> tuple:\n",
    "    return ([i for i in first if i not in second], [i for i in second if i not in first])\n",
    "\n",
    "\n",
    "@check_types\n",
    "def smth_different(*a: list[str], **kw: int):\n",
    "    return 'No errors'"
   ]
  },
  {
   "cell_type": "code",
   "execution_count": 492,
   "id": "7ad005fe",
   "metadata": {
    "scrolled": true
   },
   "outputs": [
    {
     "name": "stdout",
     "output_type": "stream",
     "text": [
      "TypeError: Argument b must be <class 'int'>, not <class 'str'>\n",
      "add ->  None\n",
      "TypeError: Argument second must be list[int], not <class 'list'>\n",
      "compute_difference ->  None\n",
      "TypeError: Argument vv must be <class 'int'>, not <class 'str'>\n",
      "smth_different ->  None\n"
     ]
    }
   ],
   "source": [
    "print('add -> ', add(1, '2'))\n",
    "print('compute_difference -> ', compute_difference([2133, 1311, 42], ['23', 42]))\n",
    "print('smth_different -> ', smth_different(['py', 'thon', 'add'], v=3, vv='11'))"
   ]
  },
  {
   "cell_type": "markdown",
   "id": "02a755ca",
   "metadata": {},
   "source": [
    "## 2. Write a decorator that will calculate the execution time of a function.\n",
    "\n",
    "Example:\n",
    "    \n",
    "        @calculate_execution_time\n",
    "        def add(a: int, b: int) -> int:\n",
    "            return a + b\n",
    "    \n",
    "        add(1, 2)\n",
    "        > 3\n",
    "        > Execution time: 0.0005 seconds"
   ]
  },
  {
   "cell_type": "code",
   "execution_count": 494,
   "id": "143d96b1",
   "metadata": {},
   "outputs": [],
   "source": [
    "from datetime import datetime"
   ]
  },
  {
   "cell_type": "code",
   "execution_count": 523,
   "id": "a0a2ebf9",
   "metadata": {},
   "outputs": [],
   "source": [
    "def calculate_execution_time(func):\n",
    "    def wrapper(*args, **kwargs):\n",
    "        start = datetime.now()\n",
    "        func(*args, **kwargs)\n",
    "        finish = datetime.now()\n",
    "        # microseconds, а не seconds, щоб були нецілі і більш точні значення\n",
    "        return f'Exetution time of function \"{func.__name__}\": {(finish - start).microseconds/10**6} seconds'\n",
    "    return wrapper"
   ]
  },
  {
   "cell_type": "code",
   "execution_count": 524,
   "id": "afdd6e28",
   "metadata": {},
   "outputs": [],
   "source": [
    "@calculate_execution_time\n",
    "def t(n):\n",
    "    for i in range(n):\n",
    "        i"
   ]
  },
  {
   "cell_type": "code",
   "execution_count": 525,
   "id": "1bca80ad",
   "metadata": {},
   "outputs": [
    {
     "data": {
      "text/plain": [
       "'Exetution time of function \"t\": 0.43321 seconds'"
      ]
     },
     "execution_count": 525,
     "metadata": {},
     "output_type": "execute_result"
    }
   ],
   "source": [
    "t(10**8)"
   ]
  },
  {
   "cell_type": "code",
   "execution_count": null,
   "id": "b178b9b4",
   "metadata": {},
   "outputs": [],
   "source": []
  }
 ],
 "metadata": {
  "kernelspec": {
   "display_name": "Python 3 (ipykernel)",
   "language": "python",
   "name": "python3"
  },
  "language_info": {
   "codemirror_mode": {
    "name": "ipython",
    "version": 3
   },
   "file_extension": ".py",
   "mimetype": "text/x-python",
   "name": "python",
   "nbconvert_exporter": "python",
   "pygments_lexer": "ipython3",
   "version": "3.11.0"
  }
 },
 "nbformat": 4,
 "nbformat_minor": 5
}
